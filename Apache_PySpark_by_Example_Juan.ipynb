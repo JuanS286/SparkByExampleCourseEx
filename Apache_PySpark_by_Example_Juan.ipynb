{
  "nbformat": 4,
  "nbformat_minor": 0,
  "metadata": {
    "colab": {
      "provenance": []
    },
    "kernelspec": {
      "name": "python3",
      "display_name": "Python 3"
    },
    "language_info": {
      "name": "python"
    }
  },
  "cells": [
    {
      "cell_type": "markdown",
      "source": [
        "# Apache PySpark by Example"
      ],
      "metadata": {
        "id": "ZZPtipYTrbgk"
      }
    },
    {
      "cell_type": "markdown",
      "metadata": {
        "id": "Dd6t0uFzuR4X"
      },
      "source": [
        "## Install Spark"
      ]
    },
    {
      "cell_type": "markdown",
      "source": [
        "- Google colab recently made some changes which breaks the Spark installation.\n",
        "- Please use the code below where we install from the pyspark package instead"
      ],
      "metadata": {
        "id": "qu34sKRJvhq_"
      }
    },
    {
      "cell_type": "code",
      "execution_count": null,
      "metadata": {
        "id": "We2yp-o7Hgu9",
        "colab": {
          "base_uri": "https://localhost:8080/"
        },
        "outputId": "fdad76a4-ba51-49e7-bada-2984a6d4110c"
      },
      "outputs": [
        {
          "output_type": "stream",
          "name": "stdout",
          "text": [
            "Collecting pyspark==3.4.0\n",
            "  Downloading pyspark-3.4.0.tar.gz (310.8 MB)\n",
            "\u001b[2K     \u001b[90m━━━━━━━━━━━━━━━━━━━━━━━━━━━━━━━━━━━━━━━━\u001b[0m \u001b[32m310.8/310.8 MB\u001b[0m \u001b[31m3.6 MB/s\u001b[0m eta \u001b[36m0:00:00\u001b[0m\n",
            "\u001b[?25h  Preparing metadata (setup.py) ... \u001b[?25l\u001b[?25hdone\n",
            "Requirement already satisfied: py4j==0.10.9.7 in /usr/local/lib/python3.10/dist-packages (from pyspark==3.4.0) (0.10.9.7)\n",
            "Building wheels for collected packages: pyspark\n",
            "  Building wheel for pyspark (setup.py) ... \u001b[?25l\u001b[?25hdone\n",
            "  Created wheel for pyspark: filename=pyspark-3.4.0-py2.py3-none-any.whl size=311317123 sha256=72a83ec8df0749dfddca7f7a0d0ca97d79f4d6266e1a3dc43629de2ceae566f1\n",
            "  Stored in directory: /root/.cache/pip/wheels/7b/1b/4b/3363a1d04368e7ff0d408e57ff57966fcdf00583774e761327\n",
            "Successfully built pyspark\n",
            "Installing collected packages: pyspark\n",
            "  Attempting uninstall: pyspark\n",
            "    Found existing installation: pyspark 3.5.3\n",
            "    Uninstalling pyspark-3.5.3:\n",
            "      Successfully uninstalled pyspark-3.5.3\n",
            "Successfully installed pyspark-3.4.0\n"
          ]
        }
      ],
      "source": [
        "!pip install pyspark==3.4.0"
      ]
    },
    {
      "cell_type": "code",
      "execution_count": 1,
      "metadata": {
        "id": "QdrFO3yrwptm",
        "colab": {
          "base_uri": "https://localhost:8080/",
          "height": 219
        },
        "outputId": "1010a8ff-019f-4ce7-8d57-d94ef69e8b06"
      },
      "outputs": [
        {
          "output_type": "execute_result",
          "data": {
            "text/plain": [
              "<pyspark.sql.session.SparkSession at 0x7aa27dc18b20>"
            ],
            "text/html": [
              "\n",
              "            <div>\n",
              "                <p><b>SparkSession - in-memory</b></p>\n",
              "                \n",
              "        <div>\n",
              "            <p><b>SparkContext</b></p>\n",
              "\n",
              "            <p><a href=\"http://9e95b7d4a7fe:4040\">Spark UI</a></p>\n",
              "\n",
              "            <dl>\n",
              "              <dt>Version</dt>\n",
              "                <dd><code>v3.5.3</code></dd>\n",
              "              <dt>Master</dt>\n",
              "                <dd><code>local[*]</code></dd>\n",
              "              <dt>AppName</dt>\n",
              "                <dd><code>pyspark-shell</code></dd>\n",
              "            </dl>\n",
              "        </div>\n",
              "        \n",
              "            </div>\n",
              "        "
            ]
          },
          "metadata": {},
          "execution_count": 1
        }
      ],
      "source": [
        "from pyspark.sql import SparkSession\n",
        "spark = SparkSession.builder.master(\"local[*]\").getOrCreate()\n",
        "spark"
      ]
    },
    {
      "cell_type": "markdown",
      "source": [],
      "metadata": {
        "id": "XO081lQtutJ-"
      }
    },
    {
      "cell_type": "markdown",
      "metadata": {
        "id": "8qf-TmnsBgXd"
      },
      "source": [
        "## (02-02) Download Chicago's Reported Crime Data"
      ]
    },
    {
      "cell_type": "markdown",
      "metadata": {
        "id": "0ysUlfFrN5OD"
      },
      "source": [
        "### Downloading and preprocessing Chicago's Reported Crime Data"
      ]
    },
    {
      "cell_type": "code",
      "execution_count": null,
      "metadata": {
        "id": "FDtw5Hy3N-pV",
        "colab": {
          "base_uri": "https://localhost:8080/"
        },
        "outputId": "3dce9997-0138-415e-dbdc-6359742a0f4e"
      },
      "outputs": [
        {
          "output_type": "stream",
          "name": "stdout",
          "text": [
            "--2024-11-14 01:23:00--  https://data.cityofchicago.org/api/views/ijzp-q8t2/rows.csv?accessType=DOWNLOAD\n",
            "Resolving data.cityofchicago.org (data.cityofchicago.org)... 174.129.43.10, 100.28.82.57, 35.170.133.124\n",
            "Connecting to data.cityofchicago.org (data.cityofchicago.org)|174.129.43.10|:443... connected.\n",
            "HTTP request sent, awaiting response... 200 OK\n",
            "Length: unspecified [text/csv]\n",
            "Saving to: ‘rows.csv?accessType=DOWNLOAD.1’\n",
            "\n",
            "sv?accessType=DOWNL     [                <=> ]  11.88M  2.66MB/s               ^C\n",
            "total 281168\n",
            "drwx------ 6 root root      4096 Nov 14 01:16  drive\n",
            "-rw-r--r-- 1 root root 275321981 Nov 14 01:15 'rows.csv?accessType=DOWNLOAD'\n",
            "-rw-r--r-- 1 root root  12580197 Nov 14 01:23 'rows.csv?accessType=DOWNLOAD.1'\n",
            "drwxr-xr-x 1 root root      4096 Nov 12 14:25  sample_data\n"
          ]
        }
      ],
      "source": [
        "!wget https://data.cityofchicago.org/api/views/ijzp-q8t2/rows.csv?accessType=DOWNLOAD\n",
        "!ls -l"
      ]
    },
    {
      "cell_type": "code",
      "source": [
        "from google.colab import drive\n",
        "drive.mount('/content/drive')"
      ],
      "metadata": {
        "colab": {
          "base_uri": "https://localhost:8080/"
        },
        "id": "GA6dt-p8PHsH",
        "outputId": "ea307a16-1866-40d7-a678-7d27720525b7"
      },
      "execution_count": 5,
      "outputs": [
        {
          "output_type": "stream",
          "name": "stdout",
          "text": [
            "Mounted at /content/drive\n"
          ]
        }
      ]
    },
    {
      "cell_type": "code",
      "execution_count": null,
      "metadata": {
        "id": "v4P5mMONYyVd"
      },
      "outputs": [],
      "source": [
        "!mv rows.csv\\?accessType\\=DOWNLOAD reported-crimes.csv\n",
        "!ls -l"
      ]
    },
    {
      "cell_type": "code",
      "execution_count": 3,
      "metadata": {
        "id": "9-1cK0nPNS95",
        "colab": {
          "base_uri": "https://localhost:8080/"
        },
        "outputId": "8b23485b-d992-4012-d887-b12436092de3"
      },
      "outputs": [
        {
          "output_type": "stream",
          "name": "stdout",
          "text": [
            "+--------+-----------+-------------------+--------------------+----+------------------+--------------------+--------------------+------+--------+----+--------+----+--------------+--------+------------+------------+----+--------------------+--------+---------+--------+\n",
            "|      ID|Case Number|               Date|               Block|IUCR|      Primary Type|         Description|Location Description|Arrest|Domestic|Beat|District|Ward|Community Area|FBI Code|X Coordinate|Y Coordinate|Year|          Updated On|Latitude|Longitude|Location|\n",
            "+--------+-----------+-------------------+--------------------+----+------------------+--------------------+--------------------+------+--------+----+--------+----+--------------+--------+------------+------------+----+--------------------+--------+---------+--------+\n",
            "|11037294|   JA371270|2015-03-18 12:00:00|   0000X W WACKER DR|1153|DECEPTIVE PRACTICE|FINANCIAL IDENTIT...|                BANK| false|   false|0111|     001|  42|            32|      11|        NULL|        NULL|2015|08/01/2017 03:52:...|    NULL|     NULL|    NULL|\n",
            "|11645836|   JC212333|2016-05-01 00:25:00| 055XX S ROCKWELL ST|1153|DECEPTIVE PRACTICE|FINANCIAL IDENTIT...|                NULL| false|   false|0824|     008|  15|            63|      11|        NULL|        NULL|2016|04/06/2019 04:04:...|    NULL|     NULL|    NULL|\n",
            "|11645601|   JC212935|2014-06-01 00:01:00| 087XX S SANGAMON ST|1153|DECEPTIVE PRACTICE|FINANCIAL IDENTIT...|           RESIDENCE| false|   false|2222|     022|  21|            71|      11|        NULL|        NULL|2014|04/06/2019 04:04:...|    NULL|     NULL|    NULL|\n",
            "|11646166|   JC213529|2018-09-01 00:01:00|082XX S INGLESIDE...|0810|             THEFT|           OVER $500|           RESIDENCE| false|    true|0631|     006|   8|            44|      06|        NULL|        NULL|2018|04/06/2019 04:04:...|    NULL|     NULL|    NULL|\n",
            "|11645648|   JC212959|2018-01-01 08:00:00| 024XX N MONITOR AVE|1153|DECEPTIVE PRACTICE|FINANCIAL IDENTIT...|           RESIDENCE| false|   false|2515|     025|  30|            19|      11|        NULL|        NULL|2018|04/06/2019 04:04:...|    NULL|     NULL|    NULL|\n",
            "+--------+-----------+-------------------+--------------------+----+------------------+--------------------+--------------------+------+--------+----+--------+----+--------------+--------+------------+------------+----+--------------------+--------+---------+--------+\n",
            "only showing top 5 rows\n",
            "\n"
          ]
        }
      ],
      "source": [
        "from pyspark.sql.functions import to_timestamp,col,lit\n",
        "rc = spark.read.csv(r'/content/drive/MyDrive/Education and training/Lambton College - Big data analytics/Term 3/Big Data Framework/Assignment/Assignment 8/reported-crimes.csv',header=True).withColumn('Date',to_timestamp(col('Date'),'MM/dd/yyyy hh:mm:ss a')).filter(col('Date') <= lit('2018-11-11'))\n",
        "rc.show(5)"
      ]
    },
    {
      "cell_type": "markdown",
      "metadata": {
        "id": "3UJoYm5zwOWp"
      },
      "source": [
        "## (03-03) Schemas"
      ]
    },
    {
      "cell_type": "code",
      "execution_count": null,
      "metadata": {
        "id": "PeeOFy5cgDRq",
        "colab": {
          "base_uri": "https://localhost:8080/"
        },
        "outputId": "18cfc13b-c88b-483f-c064-8735426792b1"
      },
      "outputs": [
        {
          "output_type": "stream",
          "name": "stdout",
          "text": [
            "root\n",
            " |-- ID: string (nullable = true)\n",
            " |-- Case Number: string (nullable = true)\n",
            " |-- Date: timestamp (nullable = true)\n",
            " |-- Block: string (nullable = true)\n",
            " |-- IUCR: string (nullable = true)\n",
            " |-- Primary Type: string (nullable = true)\n",
            " |-- Description: string (nullable = true)\n",
            " |-- Location Description: string (nullable = true)\n",
            " |-- Arrest: string (nullable = true)\n",
            " |-- Domestic: string (nullable = true)\n",
            " |-- Beat: string (nullable = true)\n",
            " |-- District: string (nullable = true)\n",
            " |-- Ward: string (nullable = true)\n",
            " |-- Community Area: string (nullable = true)\n",
            " |-- FBI Code: string (nullable = true)\n",
            " |-- X Coordinate: string (nullable = true)\n",
            " |-- Y Coordinate: string (nullable = true)\n",
            " |-- Year: string (nullable = true)\n",
            " |-- Updated On: string (nullable = true)\n",
            " |-- Latitude: string (nullable = true)\n",
            " |-- Longitude: string (nullable = true)\n",
            " |-- Location: string (nullable = true)\n",
            "\n"
          ]
        }
      ],
      "source": [
        "rc.printSchema()"
      ]
    },
    {
      "cell_type": "code",
      "execution_count": null,
      "metadata": {
        "id": "qLS_NEpEgDBJ"
      },
      "outputs": [],
      "source": [
        "from pyspark.sql.types import StructType, StructField, StringType, TimestampType, BooleanType, DoubleType, IntegerType"
      ]
    },
    {
      "cell_type": "code",
      "source": [
        "rc.columns"
      ],
      "metadata": {
        "colab": {
          "base_uri": "https://localhost:8080/"
        },
        "id": "nMT9ambATnTv",
        "outputId": "d421480c-5cf7-409c-fa74-e12b34f217ca"
      },
      "execution_count": null,
      "outputs": [
        {
          "output_type": "execute_result",
          "data": {
            "text/plain": [
              "['ID',\n",
              " 'Case Number',\n",
              " 'Date',\n",
              " 'Block',\n",
              " 'IUCR',\n",
              " 'Primary Type',\n",
              " 'Description',\n",
              " 'Location Description',\n",
              " 'Arrest',\n",
              " 'Domestic',\n",
              " 'Beat',\n",
              " 'District',\n",
              " 'Ward',\n",
              " 'Community Area',\n",
              " 'FBI Code',\n",
              " 'X Coordinate',\n",
              " 'Y Coordinate',\n",
              " 'Year',\n",
              " 'Updated On',\n",
              " 'Latitude',\n",
              " 'Longitude',\n",
              " 'Location']"
            ]
          },
          "metadata": {},
          "execution_count": 12
        }
      ]
    },
    {
      "cell_type": "code",
      "execution_count": null,
      "metadata": {
        "id": "E7NuMVpygC2h"
      },
      "outputs": [],
      "source": [
        "StructType([\n",
        "    StructField('ID', StringType(), True),\n",
        "    StructField('Case Number', StringType(), True),\n",
        "    StructField('Date', TimestampType(), True),\n",
        "    StructField('Block', StringType(), True),\n",
        "    StructField('IUCR', StringType(), True),\n",
        "    StructField('Primary Type', StringType(), True),\n",
        "\n",
        "\n",
        "])"
      ]
    },
    {
      "cell_type": "code",
      "execution_count": null,
      "metadata": {
        "id": "ugRDxNwNgHNa"
      },
      "outputs": [],
      "source": [
        "labels = [\n",
        "  ('ID', StringType()),\n",
        "  ('Case Number', StringType()),\n",
        "  ('Date', TimestampType()),\n",
        "  ('Block', StringType()),\n",
        "  ('IUCR', StringType()),\n",
        "  ('Primary Type', StringType()),\n",
        "  ('Description', StringType()),\n",
        "  ('Location Description', StringType()),\n",
        "  ('Arrest', StringType()),\n",
        "  ('Domestic', BooleanType()),\n",
        "  ('Beat', StringType()),\n",
        "  ('District', StringType()),\n",
        "  ('Ward', StringType()),\n",
        "  ('Community Area', StringType()),\n",
        "  ('FBI Code', StringType()),\n",
        "  ('X Coordinate', StringType()),\n",
        "  ('Y Coordinate', StringType()),\n",
        "  ('Year', IntegerType()),\n",
        "  ('Updated On', StringType()),\n",
        "  ('Latitude', DoubleType()),\n",
        "  ('Longitude', DoubleType()),\n",
        "  ('Location', StringType())\n",
        "]\n"
      ]
    },
    {
      "cell_type": "code",
      "execution_count": null,
      "metadata": {
        "id": "T6w6-fN9gG_7",
        "colab": {
          "base_uri": "https://localhost:8080/"
        },
        "outputId": "05844169-96a9-4328-80d2-2d5991e6c820"
      },
      "outputs": [
        {
          "output_type": "execute_result",
          "data": {
            "text/plain": [
              "StructType([StructField('ID', StringType(), True), StructField('Case Number', StringType(), True), StructField('Date', TimestampType(), True), StructField('Block', StringType(), True), StructField('IUCR', StringType(), True), StructField('Primary Type', StringType(), True), StructField('Description', StringType(), True), StructField('Location Description', StringType(), True), StructField('Arrest', StringType(), True), StructField('Domestic', BooleanType(), True), StructField('Beat', StringType(), True), StructField('District', StringType(), True), StructField('Ward', StringType(), True), StructField('Community Area', StringType(), True), StructField('FBI Code', StringType(), True), StructField('X Coordinate', StringType(), True), StructField('Y Coordinate', StringType(), True), StructField('Year', IntegerType(), True), StructField('Updated On', StringType(), True), StructField('Latitude', DoubleType(), True), StructField('Longitude', DoubleType(), True), StructField('Location', StringType(), True)])"
            ]
          },
          "metadata": {},
          "execution_count": 17
        }
      ],
      "source": [
        "schema = StructType([StructField (x[0], x[1], True) for x in labels])\n",
        "schema"
      ]
    },
    {
      "cell_type": "code",
      "execution_count": null,
      "metadata": {
        "id": "JkUF4yJFgG25",
        "colab": {
          "base_uri": "https://localhost:8080/"
        },
        "outputId": "3d67937b-afc6-4e55-9cba-c3aef96b9cae"
      },
      "outputs": [
        {
          "output_type": "stream",
          "name": "stdout",
          "text": [
            "root\n",
            " |-- ID: string (nullable = true)\n",
            " |-- Case Number: string (nullable = true)\n",
            " |-- Date: timestamp (nullable = true)\n",
            " |-- Block: string (nullable = true)\n",
            " |-- IUCR: string (nullable = true)\n",
            " |-- Primary Type: string (nullable = true)\n",
            " |-- Description: string (nullable = true)\n",
            " |-- Location Description: string (nullable = true)\n",
            " |-- Arrest: string (nullable = true)\n",
            " |-- Domestic: boolean (nullable = true)\n",
            " |-- Beat: string (nullable = true)\n",
            " |-- District: string (nullable = true)\n",
            " |-- Ward: string (nullable = true)\n",
            " |-- Community Area: string (nullable = true)\n",
            " |-- FBI Code: string (nullable = true)\n",
            " |-- X Coordinate: string (nullable = true)\n",
            " |-- Y Coordinate: string (nullable = true)\n",
            " |-- Year: integer (nullable = true)\n",
            " |-- Updated On: string (nullable = true)\n",
            " |-- Latitude: double (nullable = true)\n",
            " |-- Longitude: double (nullable = true)\n",
            " |-- Location: string (nullable = true)\n",
            "\n"
          ]
        }
      ],
      "source": [
        "rc = spark.read.csv(r'/content/drive/MyDrive/Education and training/Lambton College - Big data analytics/Term 3/Big Data Framework/Assignment/Assignment 8/reported-crimes.csv',schema=schema)\n",
        "rc.printSchema()"
      ]
    },
    {
      "cell_type": "code",
      "execution_count": null,
      "metadata": {
        "id": "o3IB6VxLgGYi",
        "colab": {
          "base_uri": "https://localhost:8080/"
        },
        "outputId": "b3a858c2-9d75-4ab6-a2ee-7a197572a5cf"
      },
      "outputs": [
        {
          "output_type": "stream",
          "name": "stdout",
          "text": [
            "+--------+-----------+----+--------------------+----+------------------+--------------------+--------------------+------+--------+----+--------+----+--------------+--------+------------+------------+----+--------------------+--------+---------+--------+\n",
            "|      ID|Case Number|Date|               Block|IUCR|      Primary Type|         Description|Location Description|Arrest|Domestic|Beat|District|Ward|Community Area|FBI Code|X Coordinate|Y Coordinate|Year|          Updated On|Latitude|Longitude|Location|\n",
            "+--------+-----------+----+--------------------+----+------------------+--------------------+--------------------+------+--------+----+--------+----+--------------+--------+------------+------------+----+--------------------+--------+---------+--------+\n",
            "|      ID|Case Number|null|               Block|IUCR|      Primary Type|         Description|Location Description|Arrest|    null|Beat|District|Ward|Community Area|FBI Code|X Coordinate|Y Coordinate|null|          Updated On|    null|     null|Location|\n",
            "|11037294|   JA371270|null|   0000X W WACKER DR|1153|DECEPTIVE PRACTICE|FINANCIAL IDENTIT...|                BANK| false|   false|0111|     001|  42|            32|      11|        null|        null|2015|08/01/2017 03:52:...|    null|     null|    null|\n",
            "|11646293|   JC213749|null|023XX N LOCKWOOD AVE|1154|DECEPTIVE PRACTICE|FINANCIAL IDENTIT...|           APARTMENT| false|   false|2515|     025|  36|            19|      11|        null|        null|2018|04/06/2019 04:04:...|    null|     null|    null|\n",
            "|11645836|   JC212333|null| 055XX S ROCKWELL ST|1153|DECEPTIVE PRACTICE|FINANCIAL IDENTIT...|                null| false|   false|0824|     008|  15|            63|      11|        null|        null|2016|04/06/2019 04:04:...|    null|     null|    null|\n",
            "|11645959|   JC211511|null|  045XX N ALBANY AVE|2820|     OTHER OFFENSE|    TELEPHONE THREAT|           RESIDENCE| false|   false|1724|     017|  33|            14|     08A|        null|        null|2018|04/06/2019 04:04:...|    null|     null|    null|\n",
            "+--------+-----------+----+--------------------+----+------------------+--------------------+--------------------+------+--------+----+--------+----+--------------+--------+------------+------------+----+--------------------+--------+---------+--------+\n",
            "only showing top 5 rows\n",
            "\n"
          ]
        }
      ],
      "source": [
        "rc.show(5)"
      ]
    },
    {
      "cell_type": "markdown",
      "metadata": {
        "id": "mI_zYOVpf2yK"
      },
      "source": [
        "## (03-04) Working with columns"
      ]
    },
    {
      "cell_type": "markdown",
      "metadata": {
        "id": "WvOfJmzhf0kG"
      },
      "source": [
        "**Display only the first 5 rows of the column name IUCR**"
      ]
    },
    {
      "cell_type": "code",
      "execution_count": null,
      "metadata": {
        "id": "808f1HzwgDyh",
        "colab": {
          "base_uri": "https://localhost:8080/"
        },
        "outputId": "5890130c-4d24-432d-f651-1012922fb6b6"
      },
      "outputs": [
        {
          "output_type": "stream",
          "name": "stdout",
          "text": [
            "+----+\n",
            "|IUCR|\n",
            "+----+\n",
            "|1153|\n",
            "|1153|\n",
            "|1153|\n",
            "|0810|\n",
            "|1153|\n",
            "+----+\n",
            "only showing top 5 rows\n",
            "\n"
          ]
        }
      ],
      "source": [
        "rc.select('IUCR').show(5)"
      ]
    },
    {
      "cell_type": "code",
      "execution_count": null,
      "metadata": {
        "id": "LZNgF-PFyJl0",
        "colab": {
          "base_uri": "https://localhost:8080/"
        },
        "outputId": "8f2f8dc6-8bde-4339-cd48-ce2ad83ddea5"
      },
      "outputs": [
        {
          "output_type": "stream",
          "name": "stdout",
          "text": [
            "+----+\n",
            "|IUCR|\n",
            "+----+\n",
            "|1153|\n",
            "|1153|\n",
            "|1153|\n",
            "|0810|\n",
            "|1153|\n",
            "+----+\n",
            "only showing top 5 rows\n",
            "\n"
          ]
        }
      ],
      "source": [
        "rc.select(rc.IUCR).show(5)"
      ]
    },
    {
      "cell_type": "code",
      "execution_count": null,
      "metadata": {
        "id": "_G1rHnJbyJl0",
        "colab": {
          "base_uri": "https://localhost:8080/"
        },
        "outputId": "12ed026b-58bd-4fb0-80c9-0c1f4dc4713a"
      },
      "outputs": [
        {
          "output_type": "stream",
          "name": "stdout",
          "text": [
            "+----+\n",
            "|IUCR|\n",
            "+----+\n",
            "|1153|\n",
            "|1153|\n",
            "|1153|\n",
            "|0810|\n",
            "|1153|\n",
            "+----+\n",
            "only showing top 5 rows\n",
            "\n"
          ]
        }
      ],
      "source": [
        "rc.select(col('IUCR')).show(5)"
      ]
    },
    {
      "cell_type": "code",
      "execution_count": null,
      "metadata": {
        "id": "uP_fcMxGyJl0"
      },
      "outputs": [],
      "source": []
    },
    {
      "cell_type": "markdown",
      "metadata": {
        "id": "A4u5vp73gEtB"
      },
      "source": [
        "  **Display only the first 4 rows of the column names Case Number, Date and Arrest**"
      ]
    },
    {
      "cell_type": "code",
      "execution_count": null,
      "metadata": {
        "id": "vWhJLf41yJl1",
        "colab": {
          "base_uri": "https://localhost:8080/"
        },
        "outputId": "570eb5b4-6532-42cd-a116-57186c0f3cb0"
      },
      "outputs": [
        {
          "output_type": "stream",
          "name": "stdout",
          "text": [
            "+-----------+-------------------+------+\n",
            "|Case Number|               Date|Arrest|\n",
            "+-----------+-------------------+------+\n",
            "|   JA371270|2015-03-18 12:00:00| false|\n",
            "|   JC212333|2016-05-01 00:25:00| false|\n",
            "|   JC212935|2014-06-01 00:01:00| false|\n",
            "|   JC213529|2018-09-01 00:01:00| false|\n",
            "+-----------+-------------------+------+\n",
            "only showing top 4 rows\n",
            "\n"
          ]
        }
      ],
      "source": [
        "rc.select('Case Number', 'Date', 'Arrest').show(4)"
      ]
    },
    {
      "cell_type": "markdown",
      "metadata": {
        "id": "GKnmLXJWr35c"
      },
      "source": [
        "**Add a column with name One, with entries all 1s**"
      ]
    },
    {
      "cell_type": "code",
      "execution_count": null,
      "metadata": {
        "id": "_OhKvPoItNtK"
      },
      "outputs": [],
      "source": [
        "from pyspark.sql.functions import lit"
      ]
    },
    {
      "cell_type": "code",
      "execution_count": null,
      "metadata": {
        "id": "dSA_eLl6uH3p",
        "colab": {
          "base_uri": "https://localhost:8080/"
        },
        "outputId": "b6a63bb3-2c3a-4d04-a997-d327350b32fb"
      },
      "outputs": [
        {
          "output_type": "stream",
          "name": "stdout",
          "text": [
            "+--------+-----------+-------------------+--------------------+----+------------------+--------------------+--------------------+------+--------+----+--------+----+--------------+--------+------------+------------+----+--------------------+--------+---------+--------+---+\n",
            "|      ID|Case Number|               Date|               Block|IUCR|      Primary Type|         Description|Location Description|Arrest|Domestic|Beat|District|Ward|Community Area|FBI Code|X Coordinate|Y Coordinate|Year|          Updated On|Latitude|Longitude|Location|One|\n",
            "+--------+-----------+-------------------+--------------------+----+------------------+--------------------+--------------------+------+--------+----+--------+----+--------------+--------+------------+------------+----+--------------------+--------+---------+--------+---+\n",
            "|11037294|   JA371270|2015-03-18 12:00:00|   0000X W WACKER DR|1153|DECEPTIVE PRACTICE|FINANCIAL IDENTIT...|                BANK| false|   false|0111|     001|  42|            32|      11|        null|        null|2015|08/01/2017 03:52:...|    null|     null|    null|  1|\n",
            "|11645836|   JC212333|2016-05-01 00:25:00| 055XX S ROCKWELL ST|1153|DECEPTIVE PRACTICE|FINANCIAL IDENTIT...|                null| false|   false|0824|     008|  15|            63|      11|        null|        null|2016|04/06/2019 04:04:...|    null|     null|    null|  1|\n",
            "|11645601|   JC212935|2014-06-01 00:01:00| 087XX S SANGAMON ST|1153|DECEPTIVE PRACTICE|FINANCIAL IDENTIT...|           RESIDENCE| false|   false|2222|     022|  21|            71|      11|        null|        null|2014|04/06/2019 04:04:...|    null|     null|    null|  1|\n",
            "|11646166|   JC213529|2018-09-01 00:01:00|082XX S INGLESIDE...|0810|             THEFT|           OVER $500|           RESIDENCE| false|    true|0631|     006|   8|            44|      06|        null|        null|2018|04/06/2019 04:04:...|    null|     null|    null|  1|\n",
            "|11645648|   JC212959|2018-01-01 08:00:00| 024XX N MONITOR AVE|1153|DECEPTIVE PRACTICE|FINANCIAL IDENTIT...|           RESIDENCE| false|   false|2515|     025|  30|            19|      11|        null|        null|2018|04/06/2019 04:04:...|    null|     null|    null|  1|\n",
            "+--------+-----------+-------------------+--------------------+----+------------------+--------------------+--------------------+------+--------+----+--------+----+--------------+--------+------------+------------+----+--------------------+--------+---------+--------+---+\n",
            "only showing top 5 rows\n",
            "\n"
          ]
        }
      ],
      "source": [
        "rc.withColumn('One', lit(1)).show(5)"
      ]
    },
    {
      "cell_type": "markdown",
      "metadata": {
        "id": "BKV2ymA2uI2h"
      },
      "source": [
        "**Remove the column IUCR**"
      ]
    },
    {
      "cell_type": "code",
      "execution_count": null,
      "metadata": {
        "id": "3wr2Q9djtXBV",
        "colab": {
          "base_uri": "https://localhost:8080/"
        },
        "outputId": "ef400d3f-d83e-4b10-ed3a-e3e13f7a37d0"
      },
      "outputs": [
        {
          "output_type": "stream",
          "name": "stdout",
          "text": [
            "+--------+-----------+-------------------+--------------------+------------------+--------------------+--------------------+------+--------+----+--------+----+--------------+--------+------------+------------+----+--------------------+--------+---------+--------+\n",
            "|      ID|Case Number|               Date|               Block|      Primary Type|         Description|Location Description|Arrest|Domestic|Beat|District|Ward|Community Area|FBI Code|X Coordinate|Y Coordinate|Year|          Updated On|Latitude|Longitude|Location|\n",
            "+--------+-----------+-------------------+--------------------+------------------+--------------------+--------------------+------+--------+----+--------+----+--------------+--------+------------+------------+----+--------------------+--------+---------+--------+\n",
            "|11037294|   JA371270|2015-03-18 12:00:00|   0000X W WACKER DR|DECEPTIVE PRACTICE|FINANCIAL IDENTIT...|                BANK| false|   false|0111|     001|  42|            32|      11|        null|        null|2015|08/01/2017 03:52:...|    null|     null|    null|\n",
            "|11645836|   JC212333|2016-05-01 00:25:00| 055XX S ROCKWELL ST|DECEPTIVE PRACTICE|FINANCIAL IDENTIT...|                null| false|   false|0824|     008|  15|            63|      11|        null|        null|2016|04/06/2019 04:04:...|    null|     null|    null|\n",
            "|11645601|   JC212935|2014-06-01 00:01:00| 087XX S SANGAMON ST|DECEPTIVE PRACTICE|FINANCIAL IDENTIT...|           RESIDENCE| false|   false|2222|     022|  21|            71|      11|        null|        null|2014|04/06/2019 04:04:...|    null|     null|    null|\n",
            "|11646166|   JC213529|2018-09-01 00:01:00|082XX S INGLESIDE...|             THEFT|           OVER $500|           RESIDENCE| false|    true|0631|     006|   8|            44|      06|        null|        null|2018|04/06/2019 04:04:...|    null|     null|    null|\n",
            "|11645648|   JC212959|2018-01-01 08:00:00| 024XX N MONITOR AVE|DECEPTIVE PRACTICE|FINANCIAL IDENTIT...|           RESIDENCE| false|   false|2515|     025|  30|            19|      11|        null|        null|2018|04/06/2019 04:04:...|    null|     null|    null|\n",
            "+--------+-----------+-------------------+--------------------+------------------+--------------------+--------------------+------+--------+----+--------+----+--------------+--------+------------+------------+----+--------------------+--------+---------+--------+\n",
            "only showing top 5 rows\n",
            "\n"
          ]
        }
      ],
      "source": [
        "rc = rc.drop('IUCR')\n",
        "rc.show(5)"
      ]
    },
    {
      "cell_type": "markdown",
      "metadata": {
        "id": "NiU1nhA3y0j4"
      },
      "source": [
        "## (03-05) Working with rows"
      ]
    },
    {
      "cell_type": "markdown",
      "metadata": {
        "id": "hgnCWSfNZsLV"
      },
      "source": [
        "**Add the reported crimes for an additional day, 12-Nov-2018, to our dataset.**"
      ]
    },
    {
      "cell_type": "code",
      "execution_count": null,
      "metadata": {
        "id": "52EiVt15y0j4",
        "colab": {
          "base_uri": "https://localhost:8080/"
        },
        "outputId": "3f7edd64-aab5-4862-b4df-ddd57287d49b"
      },
      "outputs": [
        {
          "output_type": "execute_result",
          "data": {
            "text/plain": [
              "5"
            ]
          },
          "metadata": {},
          "execution_count": 35
        }
      ],
      "source": [
        "one_day = spark.read.csv(r'/content/drive/MyDrive/Education and training/Lambton College - Big data analytics/Term 3/Big Data Framework/Assignment/Assignment 8/reported-crimes.csv',header=True).withColumn('Date',to_timestamp(col('Date'),'MM/dd/yyyy hh:mm:ss a')).filter(col('Date') == lit('2018-11-12'))\n",
        "one_day.count()"
      ]
    },
    {
      "cell_type": "code",
      "execution_count": null,
      "metadata": {
        "id": "Lg5XEVXiy0j4",
        "colab": {
          "base_uri": "https://localhost:8080/"
        },
        "outputId": "352d90dc-770e-422e-c8f2-6df02c9ad455"
      },
      "outputs": [
        {
          "output_type": "stream",
          "name": "stdout",
          "text": [
            "+--------+-----------+-------------------+--------------------+----+------------------+--------------------+--------------------+------+--------+----+--------+----+--------------+--------+------------+------------+----+--------------------+------------+-------------+--------------------+\n",
            "|      ID|Case Number|               Date|               Block|IUCR|      Primary Type|         Description|Location Description|Arrest|Domestic|Beat|District|Ward|Community Area|FBI Code|X Coordinate|Y Coordinate|Year|          Updated On|    Latitude|    Longitude|            Location|\n",
            "+--------+-----------+-------------------+--------------------+----+------------------+--------------------+--------------------+------+--------+----+--------+----+--------------+--------+------------+------------+----+--------------------+------------+-------------+--------------------+\n",
            "|13358766|   JH140578|2018-11-12 00:00:00|     008XX E 63RD ST|1153|DECEPTIVE PRACTICE|FINANCIAL IDENTIT...|           APARTMENT| false|   false|0313|     003|  20|            42|      11|        null|        null|2018|02/05/2024 03:41:...|        null|         null|                null|\n",
            "|11540042|   JB559262|2018-11-12 00:00:00| 010XX N DEARBORN ST|1140|DECEPTIVE PRACTICE|        EMBEZZLEMENT|   CONVENIENCE STORE|  true|   false|1824|     018|   2|             8|      12|     1175747|     1907348|2018|03/16/2019 04:01:...|41.901133376|-87.629904979|(41.901133376, -8...|\n",
            "|13602256|   JH434216|2018-11-12 00:00:00|050XX S BLACKSTON...|1153|DECEPTIVE PRACTICE|FINANCIAL IDENTIT...|           APARTMENT| false|   false|0222|     002|   4|            39|      11|        null|        null|2018|09/20/2024 03:40:...|        null|         null|                null|\n",
            "|11516594|   JB528186|2018-11-12 00:00:00| 049XX S PRAIRIE AVE|2826|     OTHER OFFENSE|HARASSMENT BY ELE...|               OTHER| false|   false|0224|     002|   3|            38|      26|     1178879|     1872259|2018|11/28/2018 04:14:...|41.804775828|-87.619472488|(41.804775828, -8...|\n",
            "|11505149|   JB513151|2018-11-12 00:00:00|  003XX S WHIPPLE ST|0810|             THEFT|           OVER $500|              STREET| false|   false|1124|     011|  28|            27|      06|     1156099|     1898319|2018|11/19/2018 04:22:...|41.876776356|-87.702317641|(41.876776356, -8...|\n",
            "+--------+-----------+-------------------+--------------------+----+------------------+--------------------+--------------------+------+--------+----+--------+----+--------------+--------+------------+------------+----+--------------------+------------+-------------+--------------------+\n",
            "only showing top 5 rows\n",
            "\n"
          ]
        }
      ],
      "source": [
        "rc.union(one_day).orderBy('Date', ascending=False).show(5)"
      ]
    },
    {
      "cell_type": "markdown",
      "metadata": {
        "id": "rzaD3gLyy0j4"
      },
      "source": [
        "**What are the top 10 number of reported crimes by Primary type, in descending order of occurence?**"
      ]
    },
    {
      "cell_type": "code",
      "execution_count": null,
      "metadata": {
        "id": "vl3SHZdty0j5",
        "colab": {
          "base_uri": "https://localhost:8080/"
        },
        "outputId": "f2b2bcac-f196-46f9-b723-2314fed268a1"
      },
      "outputs": [
        {
          "output_type": "stream",
          "name": "stdout",
          "text": [
            "+-------------------+-------+\n",
            "|       Primary Type|  count|\n",
            "+-------------------+-------+\n",
            "|              THEFT|1418536|\n",
            "|            BATTERY|1232300|\n",
            "|    CRIMINAL DAMAGE| 771525|\n",
            "|          NARCOTICS| 711780|\n",
            "|      OTHER OFFENSE| 419052|\n",
            "|            ASSAULT| 418523|\n",
            "|           BURGLARY| 388040|\n",
            "|MOTOR VEHICLE THEFT| 314135|\n",
            "| DECEPTIVE PRACTICE| 267472|\n",
            "|            ROBBERY| 255603|\n",
            "+-------------------+-------+\n",
            "only showing top 10 rows\n",
            "\n"
          ]
        }
      ],
      "source": [
        "rc.groupBy('Primary Type').count().orderBy('count', ascending=False).show(10)"
      ]
    },
    {
      "cell_type": "markdown",
      "metadata": {
        "id": "9sDnyyzozVxA"
      },
      "source": [
        "## (03-06) Challenge"
      ]
    },
    {
      "cell_type": "markdown",
      "metadata": {
        "id": "OdV2UOUczVxA"
      },
      "source": [
        "**What percentage of reported crimes resulted in an arrest?**"
      ]
    },
    {
      "cell_type": "code",
      "execution_count": null,
      "metadata": {
        "id": "-3yQ3XA3zVxB",
        "colab": {
          "base_uri": "https://localhost:8080/"
        },
        "outputId": "b295bdb5-f0b1-465f-9d40-d57b412fb447"
      },
      "outputs": [
        {
          "output_type": "execute_result",
          "data": {
            "text/plain": [
              "27.753590095040327"
            ]
          },
          "metadata": {},
          "execution_count": 39
        }
      ],
      "source": [
        "rc.filter(col('Arrest') == 'true').count() / rc.select('Arrest').count() * 100"
      ]
    },
    {
      "cell_type": "markdown",
      "metadata": {
        "id": "6etuZFwczVxB"
      },
      "source": [
        "  **What are the top 3 locations for reported crimes?**"
      ]
    },
    {
      "cell_type": "code",
      "execution_count": null,
      "metadata": {
        "id": "05kJeui5zVxB",
        "colab": {
          "base_uri": "https://localhost:8080/"
        },
        "outputId": "88578cf5-cf55-4ca1-e616-39d42585d619"
      },
      "outputs": [
        {
          "output_type": "stream",
          "name": "stdout",
          "text": [
            "+--------------------+-------+\n",
            "|Location Description|  count|\n",
            "+--------------------+-------+\n",
            "|              STREET|1770649|\n",
            "|           RESIDENCE|1146530|\n",
            "|           APARTMENT| 699384|\n",
            "+--------------------+-------+\n",
            "only showing top 3 rows\n",
            "\n"
          ]
        }
      ],
      "source": [
        "rc.groupBy('Location Description').count().orderBy('count', ascending=False).show(3)"
      ]
    },
    {
      "cell_type": "markdown",
      "metadata": {
        "id": "D7Dw2UpQ08-9"
      },
      "source": [
        "## (04-01) Built-in functions"
      ]
    },
    {
      "cell_type": "code",
      "execution_count": 4,
      "metadata": {
        "id": "8b9jy_g708--"
      },
      "outputs": [],
      "source": [
        "from pyspark.sql import functions"
      ]
    },
    {
      "cell_type": "code",
      "execution_count": 5,
      "metadata": {
        "id": "z7m60N3_08--",
        "colab": {
          "base_uri": "https://localhost:8080/"
        },
        "outputId": "f3f977b4-17d5-43ce-af4a-9561e38cd0dd"
      },
      "outputs": [
        {
          "output_type": "stream",
          "name": "stdout",
          "text": [
            "['Any', 'ArrayType', 'Callable', 'Column', 'DataFrame', 'DataType', 'Dict', 'Iterable', 'JVMView', 'List', 'Optional', 'PandasUDFType', 'PySparkTypeError', 'PySparkValueError', 'SparkContext', 'StringType', 'StructType', 'TYPE_CHECKING', 'Tuple', 'Type', 'Union', 'UserDefinedFunction', 'UserDefinedTableFunction', 'ValuesView', '__builtins__', '__cached__', '__doc__', '__file__', '__loader__', '__name__', '__package__', '__spec__', '_create_column_from_literal', '_create_lambda', '_create_py_udf', '_create_py_udtf', '_from_numpy_type', '_get_jvm_function', '_get_lambda_parameters', '_invoke_binary_math_function', '_invoke_function', '_invoke_function_over_columns', '_invoke_function_over_seq_of_columns', '_invoke_higher_order_function', '_options_to_str', '_test', '_to_java_column', '_to_seq', '_unresolved_named_lambda_variable', 'abs', 'acos', 'acosh', 'add_months', 'aes_decrypt', 'aes_encrypt', 'aggregate', 'any_value', 'approxCountDistinct', 'approx_count_distinct', 'approx_percentile', 'array', 'array_agg', 'array_append', 'array_compact', 'array_contains', 'array_distinct', 'array_except', 'array_insert', 'array_intersect', 'array_join', 'array_max', 'array_min', 'array_position', 'array_prepend', 'array_remove', 'array_repeat', 'array_size', 'array_sort', 'array_union', 'arrays_overlap', 'arrays_zip', 'asc', 'asc_nulls_first', 'asc_nulls_last', 'ascii', 'asin', 'asinh', 'assert_true', 'atan', 'atan2', 'atanh', 'avg', 'base64', 'bin', 'bit_and', 'bit_count', 'bit_get', 'bit_length', 'bit_or', 'bit_xor', 'bitmap_bit_position', 'bitmap_bucket_number', 'bitmap_construct_agg', 'bitmap_count', 'bitmap_or_agg', 'bitwiseNOT', 'bitwise_not', 'bool_and', 'bool_or', 'broadcast', 'bround', 'btrim', 'bucket', 'call_function', 'call_udf', 'cardinality', 'cast', 'cbrt', 'ceil', 'ceiling', 'char', 'char_length', 'character_length', 'coalesce', 'col', 'collect_list', 'collect_set', 'column', 'concat', 'concat_ws', 'contains', 'conv', 'convert_timezone', 'corr', 'cos', 'cosh', 'cot', 'count', 'countDistinct', 'count_distinct', 'count_if', 'count_min_sketch', 'covar_pop', 'covar_samp', 'crc32', 'create_map', 'csc', 'cume_dist', 'curdate', 'current_catalog', 'current_database', 'current_date', 'current_schema', 'current_timestamp', 'current_timezone', 'current_user', 'date_add', 'date_diff', 'date_format', 'date_from_unix_date', 'date_part', 'date_sub', 'date_trunc', 'dateadd', 'datediff', 'datepart', 'day', 'dayofmonth', 'dayofweek', 'dayofyear', 'days', 'decimal', 'decode', 'degrees', 'dense_rank', 'desc', 'desc_nulls_first', 'desc_nulls_last', 'e', 'element_at', 'elt', 'encode', 'endswith', 'equal_null', 'every', 'exists', 'exp', 'explode', 'explode_outer', 'expm1', 'expr', 'extract', 'factorial', 'filter', 'find_in_set', 'first', 'first_value', 'flatten', 'floor', 'forall', 'format_number', 'format_string', 'from_csv', 'from_json', 'from_unixtime', 'from_utc_timestamp', 'functools', 'get', 'get_active_spark_context', 'get_json_object', 'getbit', 'greatest', 'grouping', 'grouping_id', 'has_numpy', 'hash', 'hex', 'histogram_numeric', 'hll_sketch_agg', 'hll_sketch_estimate', 'hll_union', 'hll_union_agg', 'hour', 'hours', 'hypot', 'ifnull', 'ilike', 'initcap', 'inline', 'inline_outer', 'input_file_block_length', 'input_file_block_start', 'input_file_name', 'inspect', 'instr', 'isnan', 'isnotnull', 'isnull', 'java_method', 'json_array_length', 'json_object_keys', 'json_tuple', 'kurtosis', 'lag', 'last', 'last_day', 'last_value', 'lcase', 'lead', 'least', 'left', 'length', 'levenshtein', 'like', 'lit', 'ln', 'localtimestamp', 'locate', 'log', 'log10', 'log1p', 'log2', 'lower', 'lpad', 'ltrim', 'make_date', 'make_dt_interval', 'make_interval', 'make_timestamp', 'make_timestamp_ltz', 'make_timestamp_ntz', 'make_ym_interval', 'map_concat', 'map_contains_key', 'map_entries', 'map_filter', 'map_from_arrays', 'map_from_entries', 'map_keys', 'map_values', 'map_zip_with', 'mask', 'max', 'max_by', 'md5', 'mean', 'median', 'min', 'min_by', 'minute', 'mode', 'monotonically_increasing_id', 'month', 'months', 'months_between', 'named_struct', 'nanvl', 'negate', 'negative', 'next_day', 'now', 'np', 'nth_value', 'ntile', 'nullif', 'nvl', 'nvl2', 'octet_length', 'overlay', 'overload', 'pandas_udf', 'parse_url', 'percent_rank', 'percentile', 'percentile_approx', 'pi', 'pmod', 'posexplode', 'posexplode_outer', 'position', 'positive', 'pow', 'power', 'printf', 'product', 'quarter', 'radians', 'raise_error', 'rand', 'randn', 'rank', 'reduce', 'reflect', 'regexp', 'regexp_count', 'regexp_extract', 'regexp_extract_all', 'regexp_instr', 'regexp_like', 'regexp_replace', 'regexp_substr', 'regr_avgx', 'regr_avgy', 'regr_count', 'regr_intercept', 'regr_r2', 'regr_slope', 'regr_sxx', 'regr_sxy', 'regr_syy', 'repeat', 'replace', 'reverse', 'right', 'rint', 'rlike', 'round', 'row_number', 'rpad', 'rtrim', 'schema_of_csv', 'schema_of_json', 'sec', 'second', 'sentences', 'sequence', 'session_window', 'sha', 'sha1', 'sha2', 'shiftLeft', 'shiftRight', 'shiftRightUnsigned', 'shiftleft', 'shiftright', 'shiftrightunsigned', 'shuffle', 'sign', 'signum', 'sin', 'sinh', 'size', 'skewness', 'slice', 'some', 'sort_array', 'soundex', 'spark_partition_id', 'split', 'split_part', 'sqrt', 'stack', 'startswith', 'std', 'stddev', 'stddev_pop', 'stddev_samp', 'str_to_map', 'struct', 'substr', 'substring', 'substring_index', 'sum', 'sumDistinct', 'sum_distinct', 'sys', 'tan', 'tanh', 'timestamp_micros', 'timestamp_millis', 'timestamp_seconds', 'toDegrees', 'toRadians', 'to_binary', 'to_char', 'to_csv', 'to_date', 'to_json', 'to_number', 'to_str', 'to_timestamp', 'to_timestamp_ltz', 'to_timestamp_ntz', 'to_unix_timestamp', 'to_utc_timestamp', 'to_varchar', 'transform', 'transform_keys', 'transform_values', 'translate', 'trim', 'trunc', 'try_add', 'try_aes_decrypt', 'try_avg', 'try_divide', 'try_element_at', 'try_multiply', 'try_remote_functions', 'try_subtract', 'try_sum', 'try_to_binary', 'try_to_number', 'try_to_timestamp', 'typeof', 'ucase', 'udf', 'udtf', 'unbase64', 'unhex', 'unix_date', 'unix_micros', 'unix_millis', 'unix_seconds', 'unix_timestamp', 'unwrap_udt', 'upper', 'url_decode', 'url_encode', 'user', 'var_pop', 'var_samp', 'variance', 'version', 'warnings', 'weekday', 'weekofyear', 'when', 'width_bucket', 'window', 'window_time', 'xpath', 'xpath_boolean', 'xpath_double', 'xpath_float', 'xpath_int', 'xpath_long', 'xpath_number', 'xpath_short', 'xpath_string', 'xxhash64', 'year', 'years', 'zip_with']\n"
          ]
        }
      ],
      "source": [
        "print(dir(functions))"
      ]
    },
    {
      "cell_type": "markdown",
      "metadata": {
        "id": "1yL-b-swunTM"
      },
      "source": [
        "### String functions"
      ]
    },
    {
      "cell_type": "markdown",
      "metadata": {
        "id": "rHp9A7wyp1L4"
      },
      "source": [
        "**Display the Primary Type column in lower and upper characters, and the first 4 characters of the column**"
      ]
    },
    {
      "cell_type": "code",
      "execution_count": 6,
      "metadata": {
        "id": "4HNqGQKCqE9K"
      },
      "outputs": [],
      "source": [
        "from pyspark.sql.functions import lower, upper, substring"
      ]
    },
    {
      "cell_type": "code",
      "execution_count": 8,
      "metadata": {
        "id": "BgwSt2ta08--",
        "colab": {
          "base_uri": "https://localhost:8080/"
        },
        "outputId": "48f1be83-fd15-46cd-9586-da336b3b2191"
      },
      "outputs": [
        {
          "output_type": "stream",
          "name": "stdout",
          "text": [
            "Help on function substring in module pyspark.sql.functions:\n",
            "\n",
            "substring(str: 'ColumnOrName', pos: int, len: int) -> pyspark.sql.column.Column\n",
            "    Substring starts at `pos` and is of length `len` when str is String type or\n",
            "    returns the slice of byte array that starts at `pos` in byte and is of length `len`\n",
            "    when str is Binary type.\n",
            "    \n",
            "    .. versionadded:: 1.5.0\n",
            "    \n",
            "    .. versionchanged:: 3.4.0\n",
            "        Supports Spark Connect.\n",
            "    \n",
            "    Notes\n",
            "    -----\n",
            "    The position is not zero based, but 1 based index.\n",
            "    \n",
            "    Parameters\n",
            "    ----------\n",
            "    str : :class:`~pyspark.sql.Column` or str\n",
            "        target column to work on.\n",
            "    pos : int\n",
            "        starting position in str.\n",
            "    len : int\n",
            "        length of chars.\n",
            "    \n",
            "    Returns\n",
            "    -------\n",
            "    :class:`~pyspark.sql.Column`\n",
            "        substring of given value.\n",
            "    \n",
            "    Examples\n",
            "    --------\n",
            "    >>> df = spark.createDataFrame([('abcd',)], ['s',])\n",
            "    >>> df.select(substring(df.s, 1, 2).alias('s')).collect()\n",
            "    [Row(s='ab')]\n",
            "\n",
            "None\n"
          ]
        }
      ],
      "source": [
        "print(help(substring))"
      ]
    },
    {
      "cell_type": "code",
      "source": [
        "rc.printSchema()"
      ],
      "metadata": {
        "colab": {
          "base_uri": "https://localhost:8080/"
        },
        "id": "JvRT9ziRLmX3",
        "outputId": "996d52e9-23d0-479c-920f-8c2a8a799496"
      },
      "execution_count": 9,
      "outputs": [
        {
          "output_type": "stream",
          "name": "stdout",
          "text": [
            "root\n",
            " |-- ID: string (nullable = true)\n",
            " |-- Case Number: string (nullable = true)\n",
            " |-- Date: timestamp (nullable = true)\n",
            " |-- Block: string (nullable = true)\n",
            " |-- IUCR: string (nullable = true)\n",
            " |-- Primary Type: string (nullable = true)\n",
            " |-- Description: string (nullable = true)\n",
            " |-- Location Description: string (nullable = true)\n",
            " |-- Arrest: string (nullable = true)\n",
            " |-- Domestic: string (nullable = true)\n",
            " |-- Beat: string (nullable = true)\n",
            " |-- District: string (nullable = true)\n",
            " |-- Ward: string (nullable = true)\n",
            " |-- Community Area: string (nullable = true)\n",
            " |-- FBI Code: string (nullable = true)\n",
            " |-- X Coordinate: string (nullable = true)\n",
            " |-- Y Coordinate: string (nullable = true)\n",
            " |-- Year: string (nullable = true)\n",
            " |-- Updated On: string (nullable = true)\n",
            " |-- Latitude: string (nullable = true)\n",
            " |-- Longitude: string (nullable = true)\n",
            " |-- Location: string (nullable = true)\n",
            "\n"
          ]
        }
      ]
    },
    {
      "cell_type": "code",
      "source": [
        "rc.select(lower(col('Primary Type')), upper(col('Primary Type')), substring(col('Primary Type'), 1, 4)).show(5)"
      ],
      "metadata": {
        "colab": {
          "base_uri": "https://localhost:8080/"
        },
        "id": "39UhDX65LpOM",
        "outputId": "5be677bb-4be9-4ec3-d766-5ccb872989e7"
      },
      "execution_count": 10,
      "outputs": [
        {
          "output_type": "stream",
          "name": "stdout",
          "text": [
            "+-------------------+-------------------+-----------------------------+\n",
            "|lower(Primary Type)|upper(Primary Type)|substring(Primary Type, 1, 4)|\n",
            "+-------------------+-------------------+-----------------------------+\n",
            "| deceptive practice| DECEPTIVE PRACTICE|                         DECE|\n",
            "| deceptive practice| DECEPTIVE PRACTICE|                         DECE|\n",
            "| deceptive practice| DECEPTIVE PRACTICE|                         DECE|\n",
            "|              theft|              THEFT|                         THEF|\n",
            "| deceptive practice| DECEPTIVE PRACTICE|                         DECE|\n",
            "+-------------------+-------------------+-----------------------------+\n",
            "only showing top 5 rows\n",
            "\n"
          ]
        }
      ]
    },
    {
      "cell_type": "markdown",
      "metadata": {
        "id": "ZYDsLbbrf6dK"
      },
      "source": [
        "### Numeric functions\n"
      ]
    },
    {
      "cell_type": "markdown",
      "metadata": {
        "id": "H5CZwvAwhpCx"
      },
      "source": [
        "**Show the oldest date and the most recent date**"
      ]
    },
    {
      "cell_type": "code",
      "execution_count": 11,
      "metadata": {
        "id": "oP8NWAiUuSJC"
      },
      "outputs": [],
      "source": [
        "from pyspark.sql.functions import min, max"
      ]
    },
    {
      "cell_type": "code",
      "execution_count": 12,
      "metadata": {
        "id": "juNQDv2108-_",
        "colab": {
          "base_uri": "https://localhost:8080/"
        },
        "outputId": "cf6d1db3-e184-46cb-8c3c-642de4211078"
      },
      "outputs": [
        {
          "output_type": "stream",
          "name": "stdout",
          "text": [
            "+-------------------+-------------------+\n",
            "|          min(Date)|          max(Date)|\n",
            "+-------------------+-------------------+\n",
            "|2001-01-01 00:00:00|2018-11-11 00:00:00|\n",
            "+-------------------+-------------------+\n",
            "\n"
          ]
        }
      ],
      "source": [
        "rc.select(min(col('Date')), max(col('Date'))).show(1)"
      ]
    },
    {
      "cell_type": "markdown",
      "metadata": {
        "id": "4BJvThINk7o-"
      },
      "source": [
        "### Date"
      ]
    },
    {
      "cell_type": "markdown",
      "metadata": {
        "id": "Qjh1t1XamJ-E"
      },
      "source": [
        "**What is 3 days earlier that the oldest date and 3 days later than the most recent date?**"
      ]
    },
    {
      "cell_type": "code",
      "execution_count": 14,
      "metadata": {
        "id": "NMFcA4rhlOs3"
      },
      "outputs": [],
      "source": [
        "from pyspark.sql.functions import date_add, date_sub"
      ]
    },
    {
      "cell_type": "code",
      "execution_count": 16,
      "metadata": {
        "id": "6_12orCSlXPe",
        "colab": {
          "base_uri": "https://localhost:8080/"
        },
        "outputId": "92d4c55f-2c43-4019-9ad6-0893bebc6c90"
      },
      "outputs": [
        {
          "output_type": "stream",
          "name": "stdout",
          "text": [
            "+----------------------+----------------------+\n",
            "|date_sub(min(Date), 3)|date_add(max(Date), 3)|\n",
            "+----------------------+----------------------+\n",
            "|            2000-12-29|            2018-11-14|\n",
            "+----------------------+----------------------+\n",
            "\n"
          ]
        }
      ],
      "source": [
        "rc.select(date_sub(min(col('Date')), 3), date_add(max(col('Date')), 3)).show(1)"
      ]
    },
    {
      "cell_type": "markdown",
      "metadata": {
        "id": "hiKFyArf14B0"
      },
      "source": [
        "## (04-02) Working with dates"
      ]
    },
    {
      "cell_type": "code",
      "execution_count": 19,
      "metadata": {
        "id": "9npwvNTx1SCj"
      },
      "outputs": [],
      "source": [
        "from pyspark.sql.functions import to_date, to_timestamp, lit"
      ]
    },
    {
      "cell_type": "markdown",
      "metadata": {
        "id": "WkUMZnY5yc6q"
      },
      "source": [
        "  **2019-12-25 13:30:00**"
      ]
    },
    {
      "cell_type": "code",
      "execution_count": 17,
      "metadata": {
        "id": "vvFFnqmQ14B0",
        "colab": {
          "base_uri": "https://localhost:8080/"
        },
        "outputId": "2899c48c-8733-45cf-9802-df3dba864979"
      },
      "outputs": [
        {
          "output_type": "stream",
          "name": "stdout",
          "text": [
            "+-------------------+\n",
            "|          Christmas|\n",
            "+-------------------+\n",
            "|2019-12-25 13:30:00|\n",
            "+-------------------+\n",
            "\n"
          ]
        }
      ],
      "source": [
        "df = spark.createDataFrame([('2019-12-25 13:30:00', )], ['Christmas'])\n",
        "df.show(1)"
      ]
    },
    {
      "cell_type": "code",
      "execution_count": 20,
      "metadata": {
        "id": "87RJNjRty-W7",
        "colab": {
          "base_uri": "https://localhost:8080/"
        },
        "outputId": "9c746793-f271-4c71-e15e-1197faa7fed1"
      },
      "outputs": [
        {
          "output_type": "stream",
          "name": "stdout",
          "text": [
            "+---------------------------------------+--------------------------------------------+\n",
            "|to_date(Christmas, yyyy-MM-dd HH:mm:ss)|to_timestamp(Christmas, yyyy-MM-dd HH:mm:ss)|\n",
            "+---------------------------------------+--------------------------------------------+\n",
            "|                             2019-12-25|                         2019-12-25 13:30:00|\n",
            "+---------------------------------------+--------------------------------------------+\n",
            "\n"
          ]
        }
      ],
      "source": [
        "df.select(to_date(col('Christmas'), 'yyyy-MM-dd HH:mm:ss'), to_timestamp(col('Christmas'), 'yyyy-MM-dd HH:mm:ss')).show(1)"
      ]
    },
    {
      "cell_type": "markdown",
      "metadata": {
        "id": "r57RvNLFy1qr"
      },
      "source": [
        "**25/Dec/2019 13:30:00**"
      ]
    },
    {
      "cell_type": "code",
      "source": [
        "df = spark.createDataFrame([('25/Dec/2019 13:30:00', )], ['Christmas'])\n",
        "df.show(1)"
      ],
      "metadata": {
        "colab": {
          "base_uri": "https://localhost:8080/"
        },
        "id": "vThI1A6kPUeU",
        "outputId": "17d0752a-c074-406c-f0bb-59feeac8c9e6"
      },
      "execution_count": 21,
      "outputs": [
        {
          "output_type": "stream",
          "name": "stdout",
          "text": [
            "+--------------------+\n",
            "|           Christmas|\n",
            "+--------------------+\n",
            "|25/Dec/2019 13:30:00|\n",
            "+--------------------+\n",
            "\n"
          ]
        }
      ]
    },
    {
      "cell_type": "code",
      "execution_count": 22,
      "metadata": {
        "id": "qWSM7QZIy1O7",
        "colab": {
          "base_uri": "https://localhost:8080/"
        },
        "outputId": "67fa85b0-2d38-42f3-908c-5bfaae5ca943"
      },
      "outputs": [
        {
          "output_type": "stream",
          "name": "stdout",
          "text": [
            "+----------------------------------------+---------------------------------------------+\n",
            "|to_date(Christmas, dd/MMM/yyyy HH:mm:ss)|to_timestamp(Christmas, dd/MMM/yyyy HH:mm:ss)|\n",
            "+----------------------------------------+---------------------------------------------+\n",
            "|                              2019-12-25|                          2019-12-25 13:30:00|\n",
            "+----------------------------------------+---------------------------------------------+\n",
            "\n"
          ]
        }
      ],
      "source": [
        "df.select(to_date(col('Christmas'), 'dd/MMM/yyyy HH:mm:ss'), to_timestamp(col('Christmas'), 'dd/MMM/yyyy HH:mm:ss')).show(1)"
      ]
    },
    {
      "cell_type": "markdown",
      "metadata": {
        "id": "4DcjnoaKzBQr"
      },
      "source": [
        "**12/25/2019 01:30:00 PM**"
      ]
    },
    {
      "cell_type": "code",
      "execution_count": 27,
      "metadata": {
        "id": "WldJB29T80O2",
        "colab": {
          "base_uri": "https://localhost:8080/"
        },
        "outputId": "5390f57a-c81f-4a21-fa71-822b3456ba6f"
      },
      "outputs": [
        {
          "output_type": "stream",
          "name": "stdout",
          "text": [
            "+----------------------+\n",
            "|Christmas             |\n",
            "+----------------------+\n",
            "|12/25/2019 01:30:00 PM|\n",
            "+----------------------+\n",
            "\n"
          ]
        }
      ],
      "source": [
        "df = spark.createDataFrame([('12/25/2019 01:30:00 PM', )], ['Christmas'])\n",
        "df.show(1, truncate=False)"
      ]
    },
    {
      "cell_type": "code",
      "execution_count": 29,
      "metadata": {
        "id": "SqOg9qzQRAbi",
        "colab": {
          "base_uri": "https://localhost:8080/"
        },
        "outputId": "1ce32d95-f417-4651-c9b8-33676f5c9eda"
      },
      "outputs": [
        {
          "output_type": "stream",
          "name": "stdout",
          "text": [
            "+-----------------------------------------+----------------------------------------------+\n",
            "|to_date(Christmas, MM/dd/yyyy hh:mm:ss a)|to_timestamp(Christmas, MM/dd/yyyy hh:mm:ss a)|\n",
            "+-----------------------------------------+----------------------------------------------+\n",
            "|                               2019-12-25|                           2019-12-25 13:30:00|\n",
            "+-----------------------------------------+----------------------------------------------+\n",
            "\n"
          ]
        }
      ],
      "source": [
        "df.select(to_date(col('Christmas'), 'MM/dd/yyyy hh:mm:ss a'), to_timestamp(col('Christmas'), 'MM/dd/yyyy hh:mm:ss a')).show(1)"
      ]
    },
    {
      "cell_type": "code",
      "source": [
        "from pyspark.sql.functions import to_timestamp,col,lit\n",
        "nrc = spark.read.csv(r'/content/drive/MyDrive/Education and training/Lambton College - Big data analytics/Term 3/Big Data Framework/Assignment/Assignment 8/reported-crimes.csv',header=True).withColumn('Date',to_timestamp(col('Date'),'MM/dd/yyyy hh:mm:ss a')).filter(col('Date') <= lit('2018-11-11'))\n",
        "nrc.show(5, truncate=False)"
      ],
      "metadata": {
        "colab": {
          "base_uri": "https://localhost:8080/"
        },
        "id": "_9QfOw3iQ-GJ",
        "outputId": "4b3b2512-d78a-4cac-9c5b-116ed7683567"
      },
      "execution_count": 31,
      "outputs": [
        {
          "output_type": "stream",
          "name": "stdout",
          "text": [
            "+--------+-----------+-------------------+---------------------+----+------------------+-----------------------------------+--------------------+------+--------+----+--------+----+--------------+--------+------------+------------+----+----------------------+--------+---------+--------+\n",
            "|ID      |Case Number|Date               |Block                |IUCR|Primary Type      |Description                        |Location Description|Arrest|Domestic|Beat|District|Ward|Community Area|FBI Code|X Coordinate|Y Coordinate|Year|Updated On            |Latitude|Longitude|Location|\n",
            "+--------+-----------+-------------------+---------------------+----+------------------+-----------------------------------+--------------------+------+--------+----+--------+----+--------------+--------+------------+------------+----+----------------------+--------+---------+--------+\n",
            "|11037294|JA371270   |2015-03-18 12:00:00|0000X W WACKER DR    |1153|DECEPTIVE PRACTICE|FINANCIAL IDENTITY THEFT OVER $ 300|BANK                |false |false   |0111|001     |42  |32            |11      |NULL        |NULL        |2015|08/01/2017 03:52:26 PM|NULL    |NULL     |NULL    |\n",
            "|11645836|JC212333   |2016-05-01 00:25:00|055XX S ROCKWELL ST  |1153|DECEPTIVE PRACTICE|FINANCIAL IDENTITY THEFT OVER $ 300|NULL                |false |false   |0824|008     |15  |63            |11      |NULL        |NULL        |2016|04/06/2019 04:04:43 PM|NULL    |NULL     |NULL    |\n",
            "|11645601|JC212935   |2014-06-01 00:01:00|087XX S SANGAMON ST  |1153|DECEPTIVE PRACTICE|FINANCIAL IDENTITY THEFT OVER $ 300|RESIDENCE           |false |false   |2222|022     |21  |71            |11      |NULL        |NULL        |2014|04/06/2019 04:04:43 PM|NULL    |NULL     |NULL    |\n",
            "|11646166|JC213529   |2018-09-01 00:01:00|082XX S INGLESIDE AVE|0810|THEFT             |OVER $500                          |RESIDENCE           |false |true    |0631|006     |8   |44            |06      |NULL        |NULL        |2018|04/06/2019 04:04:43 PM|NULL    |NULL     |NULL    |\n",
            "|11645648|JC212959   |2018-01-01 08:00:00|024XX N MONITOR AVE  |1153|DECEPTIVE PRACTICE|FINANCIAL IDENTITY THEFT OVER $ 300|RESIDENCE           |false |false   |2515|025     |30  |19            |11      |NULL        |NULL        |2018|04/06/2019 04:04:43 PM|NULL    |NULL     |NULL    |\n",
            "+--------+-----------+-------------------+---------------------+----+------------------+-----------------------------------+--------------------+------+--------+----+--------+----+--------------+--------+------------+------------+----+----------------------+--------+---------+--------+\n",
            "only showing top 5 rows\n",
            "\n"
          ]
        }
      ]
    },
    {
      "cell_type": "markdown",
      "metadata": {
        "id": "9lAyzg282V_4"
      },
      "source": [
        "## (04-03) Joins"
      ]
    },
    {
      "cell_type": "markdown",
      "metadata": {
        "id": "5klVM9jJZBDl"
      },
      "source": [
        "**Download police station data**"
      ]
    },
    {
      "cell_type": "code",
      "execution_count": 32,
      "metadata": {
        "id": "c7CFhY3K2V_5",
        "colab": {
          "base_uri": "https://localhost:8080/"
        },
        "outputId": "7e5f38ff-9068-49e8-f1ee-bff74cf1562b"
      },
      "outputs": [
        {
          "output_type": "stream",
          "name": "stdout",
          "text": [
            "+------------+-------------+-------------------+-------+-----+-----+----------------------------------------------------------------------------+------------+------------+------------+------------+------------+-----------+------------+-------------------------------+\n",
            "|DISTRICT    |DISTRICT NAME|ADDRESS            |CITY   |STATE|ZIP  |WEBSITE                                                                     |PHONE       |FAX         |TTY         |X COORDINATE|Y COORDINATE|LATITUDE   |LONGITUDE   |LOCATION                       |\n",
            "+------------+-------------+-------------------+-------+-----+-----+----------------------------------------------------------------------------+------------+------------+------------+------------+------------+-----------+------------+-------------------------------+\n",
            "|Headquarters|Headquarters |3510 S Michigan Ave|Chicago|IL   |60653|http://home.chicagopolice.org                                               |NULL        |NULL        |NULL        |1177731.401 |1881697.404 |41.83070169|-87.62339535|(41.8307016873, -87.6233953459)|\n",
            "|18          |Near North   |1160 N Larrabee St |Chicago|IL   |60610|http://home.chicagopolice.org/community/districts/18th-district-near-north/ |312-742-5870|312-742-5771|312-742-5773|1172080.029 |1908086.527 |41.90324165|-87.64335214|(41.9032416531, -87.6433521393)|\n",
            "|19          |Town Hall    |850 W Addison St   |Chicago|IL   |60613|http://home.chicagopolice.org/community/districts/19th-district-town-hall/  |312-744-8320|312-744-4481|312-744-8011|1169730.744 |1924160.317 |41.94740046|-87.65151202|(41.9474004564, -87.651512018) |\n",
            "|20          |Lincoln      |5400 N Lincoln Ave |Chicago|IL   |60625|http://home.chicagopolice.org/community/districts/20th-district-lincoln/    |312-742-8714|312-742-8803|312-742-8841|1158399.146 |1935788.826 |41.97954951|-87.69284451|(41.9795495131, -87.6928445094)|\n",
            "|22          |Morgan Park  |1900 W Monterey Ave|Chicago|IL   |60643|http://home.chicagopolice.org/community/districts/22nd-district-morgan-park/|312-745-0710|312-745-0814|312-745-0569|1165825.476 |1830851.333 |41.69143478|-87.66852039|(41.6914347795, -87.6685203937)|\n",
            "+------------+-------------+-------------------+-------+-----+-----+----------------------------------------------------------------------------+------------+------------+------------+------------+------------+-----------+------------+-------------------------------+\n",
            "only showing top 5 rows\n",
            "\n"
          ]
        }
      ],
      "source": [
        "ps = spark.read.csv('police_stations.csv', header=True)\n",
        "ps.show(5, truncate=False)"
      ]
    },
    {
      "cell_type": "markdown",
      "metadata": {
        "id": "CdBqB9Oiw0gV"
      },
      "source": [
        "**The reported crimes dataset has only the district number. Add the district name by joining with the police station dataset**"
      ]
    },
    {
      "cell_type": "code",
      "execution_count": 33,
      "metadata": {
        "id": "S84o4-yZ2V_5",
        "colab": {
          "base_uri": "https://localhost:8080/"
        },
        "outputId": "e6df1025-3722-4c49-c650-b1db0ea23dbf"
      },
      "outputs": [
        {
          "output_type": "execute_result",
          "data": {
            "text/plain": [
              "6757342"
            ]
          },
          "metadata": {},
          "execution_count": 33
        }
      ],
      "source": [
        "rc.cache()\n",
        "rc.count()"
      ]
    },
    {
      "cell_type": "code",
      "execution_count": 34,
      "metadata": {
        "id": "GP90Bm-lc52-",
        "colab": {
          "base_uri": "https://localhost:8080/"
        },
        "outputId": "b3e3bc5c-4f70-4fb6-ff9f-fbcaa9e48e1b"
      },
      "outputs": [
        {
          "output_type": "stream",
          "name": "stdout",
          "text": [
            "+--------+\n",
            "|District|\n",
            "+--------+\n",
            "|     009|\n",
            "|     012|\n",
            "|     024|\n",
            "|     031|\n",
            "|     015|\n",
            "|     006|\n",
            "|     019|\n",
            "|     020|\n",
            "|     011|\n",
            "|     025|\n",
            "|     003|\n",
            "|     005|\n",
            "|     016|\n",
            "|     018|\n",
            "|     008|\n",
            "|     022|\n",
            "|     001|\n",
            "|     014|\n",
            "|     010|\n",
            "|     004|\n",
            "|     017|\n",
            "|     007|\n",
            "|     002|\n",
            "|     021|\n",
            "|    NULL|\n",
            "+--------+\n",
            "\n"
          ]
        }
      ],
      "source": [
        "ps.select('District').distinct().show(30)"
      ]
    },
    {
      "cell_type": "code",
      "source": [
        "rc.select('District').distinct().show(30)"
      ],
      "metadata": {
        "colab": {
          "base_uri": "https://localhost:8080/"
        },
        "id": "3pOd6faEUBrE",
        "outputId": "a664eeaa-1ef4-44af-e0e3-a73acd2e368e"
      },
      "execution_count": 35,
      "outputs": [
        {
          "output_type": "stream",
          "name": "stdout",
          "text": [
            "+--------+\n",
            "|District|\n",
            "+--------+\n",
            "|     009|\n",
            "|     012|\n",
            "|     024|\n",
            "|     031|\n",
            "|     015|\n",
            "|     006|\n",
            "|     019|\n",
            "|     020|\n",
            "|     011|\n",
            "|     025|\n",
            "|     003|\n",
            "|     005|\n",
            "|     016|\n",
            "|     018|\n",
            "|     008|\n",
            "|     022|\n",
            "|     001|\n",
            "|     014|\n",
            "|     010|\n",
            "|     004|\n",
            "|     017|\n",
            "|     007|\n",
            "|     002|\n",
            "|     021|\n",
            "|    NULL|\n",
            "+--------+\n",
            "\n"
          ]
        }
      ]
    },
    {
      "cell_type": "code",
      "execution_count": 36,
      "metadata": {
        "id": "zbdoVA6Gc6mG"
      },
      "outputs": [],
      "source": [
        "from pyspark.sql.functions import lpad"
      ]
    },
    {
      "cell_type": "code",
      "execution_count": 37,
      "metadata": {
        "id": "V06UpJ4Tc7oJ",
        "colab": {
          "base_uri": "https://localhost:8080/"
        },
        "outputId": "506a3c7a-f7f6-4ced-ac60-0ea80dc26ff4"
      },
      "outputs": [
        {
          "output_type": "stream",
          "name": "stdout",
          "text": [
            "Help on function lpad in module pyspark.sql.functions:\n",
            "\n",
            "lpad(col: 'ColumnOrName', len: int, pad: str) -> pyspark.sql.column.Column\n",
            "    Left-pad the string column to width `len` with `pad`.\n",
            "    \n",
            "    .. versionadded:: 1.5.0\n",
            "    \n",
            "    .. versionchanged:: 3.4.0\n",
            "        Supports Spark Connect.\n",
            "    \n",
            "    Parameters\n",
            "    ----------\n",
            "    col : :class:`~pyspark.sql.Column` or str\n",
            "        target column to work on.\n",
            "    len : int\n",
            "        length of the final string.\n",
            "    pad : str\n",
            "        chars to prepend.\n",
            "    \n",
            "    Returns\n",
            "    -------\n",
            "    :class:`~pyspark.sql.Column`\n",
            "        left padded result.\n",
            "    \n",
            "    Examples\n",
            "    --------\n",
            "    >>> df = spark.createDataFrame([('abcd',)], ['s',])\n",
            "    >>> df.select(lpad(df.s, 6, '#').alias('s')).collect()\n",
            "    [Row(s='##abcd')]\n",
            "\n"
          ]
        }
      ],
      "source": [
        "help(lpad)"
      ]
    },
    {
      "cell_type": "code",
      "execution_count": 39,
      "metadata": {
        "id": "S_YiRfSgc7em",
        "colab": {
          "base_uri": "https://localhost:8080/"
        },
        "outputId": "a1c41afd-dd3e-40ed-f78a-611386dc843c"
      },
      "outputs": [
        {
          "output_type": "stream",
          "name": "stdout",
          "text": [
            "+--------------------+\n",
            "|lpad(DISTRICT, 3, 0)|\n",
            "+--------------------+\n",
            "|                 Hea|\n",
            "|                 018|\n",
            "|                 019|\n",
            "|                 020|\n",
            "|                 022|\n",
            "|                 024|\n",
            "|                 025|\n",
            "|                 001|\n",
            "|                 002|\n",
            "|                 003|\n",
            "|                 004|\n",
            "|                 005|\n",
            "|                 006|\n",
            "|                 007|\n",
            "|                 008|\n",
            "|                 009|\n",
            "|                 010|\n",
            "|                 011|\n",
            "|                 012|\n",
            "|                 \",C|\n",
            "+--------------------+\n",
            "only showing top 20 rows\n",
            "\n"
          ]
        }
      ],
      "source": [
        "ps.select(lpad(col('DISTRICT'), 3, '0')).show()"
      ]
    },
    {
      "cell_type": "code",
      "execution_count": 41,
      "metadata": {
        "id": "nWQMpWQec7SO",
        "colab": {
          "base_uri": "https://localhost:8080/"
        },
        "outputId": "402092c8-7ad1-4dae-e50d-484315dd273d"
      },
      "outputs": [
        {
          "output_type": "stream",
          "name": "stdout",
          "text": [
            "+--------------------+-----------------+--------------------+-------+-----+-----+--------------------+------------+------------+------------+------------+------------+-----------+------------+--------------------+---------------+\n",
            "|            DISTRICT|    DISTRICT NAME|             ADDRESS|   CITY|STATE|  ZIP|             WEBSITE|       PHONE|         FAX|         TTY|X COORDINATE|Y COORDINATE|   LATITUDE|   LONGITUDE|            LOCATION|format_district|\n",
            "+--------------------+-----------------+--------------------+-------+-----+-----+--------------------+------------+------------+------------+------------+------------+-----------+------------+--------------------+---------------+\n",
            "|        Headquarters|     Headquarters| 3510 S Michigan Ave|Chicago|   IL|60653|http://home.chica...|        NULL|        NULL|        NULL| 1177731.401| 1881697.404|41.83070169|-87.62339535|(41.8307016873, -...|            Hea|\n",
            "|                  18|       Near North|  1160 N Larrabee St|Chicago|   IL|60610|http://home.chica...|312-742-5870|312-742-5771|312-742-5773| 1172080.029| 1908086.527|41.90324165|-87.64335214|(41.9032416531, -...|            018|\n",
            "|                  19|        Town Hall|    850 W Addison St|Chicago|   IL|60613|http://home.chica...|312-744-8320|312-744-4481|312-744-8011| 1169730.744| 1924160.317|41.94740046|-87.65151202|(41.9474004564, -...|            019|\n",
            "|                  20|          Lincoln|  5400 N Lincoln Ave|Chicago|   IL|60625|http://home.chica...|312-742-8714|312-742-8803|312-742-8841| 1158399.146| 1935788.826|41.97954951|-87.69284451|(41.9795495131, -...|            020|\n",
            "|                  22|      Morgan Park| 1900 W Monterey Ave|Chicago|   IL|60643|http://home.chica...|312-745-0710|312-745-0814|312-745-0569| 1165825.476| 1830851.333|41.69143478|-87.66852039|(41.6914347795, -...|            022|\n",
            "|                  24|      Rogers Park|     6464 N Clark St|Chicago|   IL|60626|http://home.chica...|312-744-5907|312-744-6928|312-744-7603| 1164193.588| 1943199.401|41.99976348|-87.67132429|(41.9997634842, -...|            024|\n",
            "|                  25|    Grand Central|    5555 W Grand Ave|Chicago|   IL|60639|http://home.chica...|312-746-8605|312-746-4353|312-746-8383| 1138770.871| 1913442.439|41.91860889|-87.76557448|(41.9186088912, -...|            025|\n",
            "|                   1|          Central|     1718 S State St|Chicago|   IL|60616|http://home.chica...|312-745-4290|312-745-3694|312-745-3693| 1176569.052| 1891771.704|41.85837259|-87.62735617|(41.8583725929, -...|            001|\n",
            "|                   2|        Wentworth|5101 S Wentworth Ave|Chicago|   IL|60609|http://home.chica...|312-747-8366|312-747-5396|312-747-6656| 1175864.837| 1871153.753|41.80181109|-87.63056018|(41.8018110912, -...|            002|\n",
            "|                   3|   Grand Crossing|7040 S Cottage Gr...|Chicago|   IL|60637|http://home.chica...|312-747-8201|312-747-5479|312-747-9168| 1182739.183| 1858317.732|41.76643089|-87.60574786|(41.7664308925, -...|            003|\n",
            "|                   4|    South Chicago|     2255 E 103rd St|Chicago|   IL|60617|http://home.chica...|312-747-7581|312-747-5276|312-747-9169| 1193131.299| 1837090.265|41.70793329|-87.56834912|(41.7079332906, -...|            004|\n",
            "|                   5|          Calumet|      727 E 111th St|Chicago|   IL|60628|http://home.chica...|312-747-8210|312-747-5935|312-747-9170| 1183305.427| 1831462.313|41.69272336|-87.60450587|(41.6927233639, -...|            005|\n",
            "|                   6|          Gresham|   7808 S Halsted St|Chicago|   IL|60620|http://home.chica...|312-745-3617|312-745-3649|312-745-3639| 1172283.013| 1853022.646|41.75213684|-87.64422891|(41.7521368378, -...|            006|\n",
            "|                   7|        Englewood|      1438 W 63rd St|Chicago|   IL|60636|http://home.chica...|312-747-8223|312-747-6558|312-747-6652| 1167659.235| 1863005.522|41.77963154|-87.66088702|(41.7796315359, -...|            007|\n",
            "|                   8|     Chicago Lawn|      3420 W 63rd St|Chicago|   IL|60629|http://home.chica...|312-747-8730|312-747-8545|312-747-8116| 1154575.242| 1862672.049|41.77898719|-87.70886382|(41.778987189, -8...|            008|\n",
            "|                   9|          Deering|   3120 S Halsted St|Chicago|   IL|60608|http://home.chica...|312-747-8227|312-747-5329|312-747-9172|  1171440.24| 1884085.224|41.83739443|-87.64640771|(41.8373944311, -...|            009|\n",
            "|                  10|            Ogden|    3315 W Ogden Ave|Chicago|   IL|60623|http://home.chica...|312-747-7511|312-747-7429|312-747-7471| 1154500.753| 1890985.501|41.85668453|-87.70838196|(41.8566845327, -...|            010|\n",
            "|                  11|         Harrison|  3151 W Harrison St|Chicago|   IL|60612|http://home.chica...|312-746-8386|312-746-4281|312-746-5151| 1155244.069| 1897148.755|41.87358229|-87.70548813|(41.8735822883, -...|            011|\n",
            "|                  12|        Near West|1412 S Blue Islan...|   NULL| NULL| NULL|                NULL|        NULL|        NULL|        NULL|        NULL|        NULL|       NULL|        NULL|                NULL|            012|\n",
            "|\",Chicago,IL,6060...| -87.6569725149)\"|                NULL|   NULL| NULL| NULL|                NULL|        NULL|        NULL|        NULL|        NULL|        NULL|       NULL|        NULL|                NULL|            \",C|\n",
            "+--------------------+-----------------+--------------------+-------+-----+-----+--------------------+------------+------------+------------+------------+------------+-----------+------------+--------------------+---------------+\n",
            "only showing top 20 rows\n",
            "\n"
          ]
        }
      ],
      "source": [
        "ps = ps.withColumn('format_district', lpad(col('DISTRICT'), 3, '0'))\n",
        "ps.show()"
      ]
    },
    {
      "cell_type": "code",
      "execution_count": 43,
      "metadata": {
        "id": "n4eBu-vMc6bN",
        "colab": {
          "base_uri": "https://localhost:8080/"
        },
        "outputId": "c783caf5-825a-4f99-ef11-d838e961610a"
      },
      "outputs": [
        {
          "output_type": "stream",
          "name": "stdout",
          "text": [
            "+--------+-----------+-------------------+--------------------+----+--------------------+--------------------+--------------------+------+--------+----+--------+----+--------------+--------+------------+------------+----+--------------------+------------+-------------+--------------------+--------+--------------+--------------------+-------+-----+-----+--------------------+------------+------------+------------+------------+------------+-----------+------------+--------------------+---------------+\n",
            "|      ID|Case Number|               Date|               Block|IUCR|        Primary Type|         Description|Location Description|Arrest|Domestic|Beat|District|Ward|Community Area|FBI Code|X Coordinate|Y Coordinate|Year|          Updated On|    Latitude|    Longitude|            Location|DISTRICT| DISTRICT NAME|             ADDRESS|   CITY|STATE|  ZIP|             WEBSITE|       PHONE|         FAX|         TTY|X COORDINATE|Y COORDINATE|   LATITUDE|   LONGITUDE|            LOCATION|format_district|\n",
            "+--------+-----------+-------------------+--------------------+----+--------------------+--------------------+--------------------+------+--------+----+--------+----+--------------+--------+------------+------------+----+--------------------+------------+-------------+--------------------+--------+--------------+--------------------+-------+-----+-----+--------------------+------------+------------+------------+------------+------------+-----------+------------+--------------------+---------------+\n",
            "|11037294|   JA371270|2015-03-18 12:00:00|   0000X W WACKER DR|1153|  DECEPTIVE PRACTICE|FINANCIAL IDENTIT...|                BANK| false|   false|0111|     001|  42|            32|      11|        NULL|        NULL|2015|08/01/2017 03:52:...|        NULL|         NULL|                NULL|       1|       Central|     1718 S State St|Chicago|   IL|60616|http://home.chica...|312-745-4290|312-745-3694|312-745-3693| 1176569.052| 1891771.704|41.85837259|-87.62735617|(41.8583725929, -...|            001|\n",
            "|11645836|   JC212333|2016-05-01 00:25:00| 055XX S ROCKWELL ST|1153|  DECEPTIVE PRACTICE|FINANCIAL IDENTIT...|                NULL| false|   false|0824|     008|  15|            63|      11|        NULL|        NULL|2016|04/06/2019 04:04:...|        NULL|         NULL|                NULL|       8|  Chicago Lawn|      3420 W 63rd St|Chicago|   IL|60629|http://home.chica...|312-747-8730|312-747-8545|312-747-8116| 1154575.242| 1862672.049|41.77898719|-87.70886382|(41.778987189, -8...|            008|\n",
            "|11645601|   JC212935|2014-06-01 00:01:00| 087XX S SANGAMON ST|1153|  DECEPTIVE PRACTICE|FINANCIAL IDENTIT...|           RESIDENCE| false|   false|2222|     022|  21|            71|      11|        NULL|        NULL|2014|04/06/2019 04:04:...|        NULL|         NULL|                NULL|      22|   Morgan Park| 1900 W Monterey Ave|Chicago|   IL|60643|http://home.chica...|312-745-0710|312-745-0814|312-745-0569| 1165825.476| 1830851.333|41.69143478|-87.66852039|(41.6914347795, -...|            022|\n",
            "|11646166|   JC213529|2018-09-01 00:01:00|082XX S INGLESIDE...|0810|               THEFT|           OVER $500|           RESIDENCE| false|    true|0631|     006|   8|            44|      06|        NULL|        NULL|2018|04/06/2019 04:04:...|        NULL|         NULL|                NULL|       6|       Gresham|   7808 S Halsted St|Chicago|   IL|60620|http://home.chica...|312-745-3617|312-745-3649|312-745-3639| 1172283.013| 1853022.646|41.75213684|-87.64422891|(41.7521368378, -...|            006|\n",
            "|11645648|   JC212959|2018-01-01 08:00:00| 024XX N MONITOR AVE|1153|  DECEPTIVE PRACTICE|FINANCIAL IDENTIT...|           RESIDENCE| false|   false|2515|     025|  30|            19|      11|        NULL|        NULL|2018|04/06/2019 04:04:...|        NULL|         NULL|                NULL|      25| Grand Central|    5555 W Grand Ave|Chicago|   IL|60639|http://home.chica...|312-746-8605|312-746-4353|312-746-8383| 1138770.871| 1913442.439|41.91860889|-87.76557448|(41.9186088912, -...|            025|\n",
            "|11645557|   JC212685|2018-04-01 00:01:00|  080XX S VERNON AVE|1153|  DECEPTIVE PRACTICE|FINANCIAL IDENTIT...|           RESIDENCE| false|   false|0631|     006|   6|            44|      11|        NULL|        NULL|2018|04/06/2019 04:04:...|        NULL|         NULL|                NULL|       6|       Gresham|   7808 S Halsted St|Chicago|   IL|60620|http://home.chica...|312-745-3617|312-745-3649|312-745-3639| 1172283.013| 1853022.646|41.75213684|-87.64422891|(41.7521368378, -...|            006|\n",
            "|11645527|   JC212744|2015-02-02 10:00:00|  069XX W ARCHER AVE|1153|  DECEPTIVE PRACTICE|FINANCIAL IDENTIT...|               OTHER| false|   false|0811|     008|  23|            56|      11|        NULL|        NULL|2015|04/06/2019 04:04:...|        NULL|         NULL|                NULL|       8|  Chicago Lawn|      3420 W 63rd St|Chicago|   IL|60629|http://home.chica...|312-747-8730|312-747-8545|312-747-8116| 1154575.242| 1862672.049|41.77898719|-87.70886382|(41.778987189, -8...|            008|\n",
            "|11645833|   JC213044|2012-05-05 12:25:00|     057XX W OHIO ST|1153|  DECEPTIVE PRACTICE|FINANCIAL IDENTIT...|                NULL| false|   false|1511|     015|  29|            25|      11|        NULL|        NULL|2012|04/06/2019 04:04:...|        NULL|         NULL|                NULL|      15|        Austin|   5701 W Madison St|Chicago|   IL|60644|http://home.chica...|312-743-1440|312-743-1366|312-743-1485| 1138148.815| 1899399.078|41.88008346|-87.76819989|(41.8800834614, -...|            015|\n",
            "| 4144897|   HL474854|2005-07-10 15:00:00| 062XX S ABERDEEN ST|0430|             BATTERY|AGGRAVATED: OTHER...|              STREET| false|   false|0712|     007|  16|            68|     04B|     1170050|     1863524|2005|02/28/2018 03:56:...|41.781002663|-87.652107119|(41.781002663, -8...|       7|     Englewood|      1438 W 63rd St|Chicago|   IL|60636|http://home.chica...|312-747-8223|312-747-6558|312-747-6652| 1167659.235| 1863005.522|41.77963154|-87.66088702|(41.7796315359, -...|            007|\n",
            "| 1744168|    G553545|2001-09-15 02:00:00|     013XX W POLK ST|0460|             BATTERY|              SIMPLE|              STREET| false|   false|1213|     012|NULL|          NULL|     08B|        NULL|        NULL|2001|08/17/2015 03:03:...|        NULL|         NULL|                NULL|      12|     Near West|1412 S Blue Islan...|   NULL| NULL| NULL|                NULL|        NULL|        NULL|        NULL|        NULL|        NULL|       NULL|        NULL|                NULL|            012|\n",
            "|11615821|   JC176668|2016-01-01 12:00:00| 054XX N NATCHEZ AVE|1195|  DECEPTIVE PRACTICE|FINAN EXPLOIT-ELD...|           RESIDENCE| false|    true|1613|     016|  45|            10|      11|        NULL|        NULL|2016|03/08/2019 04:36:...|        NULL|         NULL|                NULL|      16|Jefferson Park|5151 N Milwaukee Ave|Chicago|   IL|60630|http://home.chica...|312-742-4480|312-742-4421|312-742-4423| 1138480.758| 1933660.473|41.97409445|-87.76614884|(41.9740944511, -...|            016|\n",
            "|11641400|   JC207897|2018-07-26 13:00:00|  041XX N KEELER AVE|1130|  DECEPTIVE PRACTICE|FRAUD OR CONFIDEN...|           RESIDENCE| false|   false|1722|     017|  39|            16|      11|        NULL|        NULL|2018|04/02/2019 04:10:...|        NULL|         NULL|                NULL|      17|   Albany Park|   4650 N Pulaski Rd|Chicago|   IL|60630|http://home.chica...|312-742-4410|312-742-5411|312-742-5451|  1148843.91| 1930801.058|41.96605342|-87.72811456|(41.9660534171, -...|            017|\n",
            "|11646766|   JC214025|2018-01-01 09:10:00| 019XX N KENMORE AVE|1153|  DECEPTIVE PRACTICE|FINANCIAL IDENTIT...|                NULL| false|   false|1811|     018|  43|             7|      11|        NULL|        NULL|2018|04/07/2019 04:05:...|        NULL|         NULL|                NULL|      18|    Near North|  1160 N Larrabee St|Chicago|   IL|60610|http://home.chica...|312-742-5870|312-742-5771|312-742-5773| 1172080.029| 1908086.527|41.90324165|-87.64335214|(41.9032416531, -...|            018|\n",
            "|11646447|   JC213946|2008-10-24 14:30:00|036XX N NARRAGANS...|1153|  DECEPTIVE PRACTICE|FINANCIAL IDENTIT...|           APARTMENT| false|   false|1633|     016|  36|            17|      11|        NULL|        NULL|2008|04/07/2019 04:05:...|        NULL|         NULL|                NULL|      16|Jefferson Park|5151 N Milwaukee Ave|Chicago|   IL|60630|http://home.chica...|312-742-4480|312-742-4421|312-742-4423| 1138480.758| 1933660.473|41.97409445|-87.76614884|(41.9740944511, -...|            016|\n",
            "|11646550|   JC214099|2018-10-04 12:00:00|   092XX S PERRY AVE|1120|  DECEPTIVE PRACTICE|             FORGERY|               OTHER| false|   false|0634|     006|  21|            49|      10|        NULL|        NULL|2018|04/07/2019 04:05:...|        NULL|         NULL|                NULL|       6|       Gresham|   7808 S Halsted St|Chicago|   IL|60620|http://home.chica...|312-745-3617|312-745-3649|312-745-3639| 1172283.013| 1853022.646|41.75213684|-87.64422891|(41.7521368378, -...|            006|\n",
            "| 4229528|   HL545852|2005-08-12 23:00:00|063XX S COTTAGE G...|3730|INTERFERENCE WITH...| OBSTRUCTING JUSTICE|            SIDEWALK|  true|   false|0312|     003|  20|            42|      24|     1182654|     1863077|2005|02/28/2018 03:56:...|41.779492755|-87.605912536|(41.779492755, -8...|       3|Grand Crossing|7040 S Cottage Gr...|Chicago|   IL|60637|http://home.chica...|312-747-8201|312-747-5479|312-747-9168| 1182739.183| 1858317.732|41.76643089|-87.60574786|(41.7664308925, -...|            003|\n",
            "|11647549|   JC214237|2018-06-07 15:00:00|102XX S EGGLESTON...|0820|               THEFT|      $500 AND UNDER|               OTHER| false|   false|2232|     022|   9|            73|      06|        NULL|        NULL|2018|04/09/2019 04:17:...|        NULL|         NULL|                NULL|      22|   Morgan Park| 1900 W Monterey Ave|Chicago|   IL|60643|http://home.chica...|312-745-0710|312-745-0814|312-745-0569| 1165825.476| 1830851.333|41.69143478|-87.66852039|(41.6914347795, -...|            022|\n",
            "|11031104|   JA362043|2008-07-24 00:01:00| 031XX W FILLMORE ST|1563|         SEX OFFENSE|CRIMINAL SEXUAL A...|           APARTMENT| false|    true|1134|     011|  24|            29|      17|        NULL|        NULL|2008|07/26/2017 03:56:...|        NULL|         NULL|                NULL|      11|      Harrison|  3151 W Harrison St|Chicago|   IL|60612|http://home.chica...|312-746-8386|312-746-4281|312-746-5151| 1155244.069| 1897148.755|41.87358229|-87.70548813|(41.8735822883, -...|            011|\n",
            "|11648173|   JC216048|2018-11-01 00:00:00|062XX S MARSHFIEL...|1153|  DECEPTIVE PRACTICE|FINANCIAL IDENTIT...|           APARTMENT| false|   false|0714|     007|  16|            67|      11|        NULL|        NULL|2018|04/08/2019 04:19:...|        NULL|         NULL|                NULL|       7|     Englewood|      1438 W 63rd St|Chicago|   IL|60636|http://home.chica...|312-747-8223|312-747-6558|312-747-6652| 1167659.235| 1863005.522|41.77963154|-87.66088702|(41.7796315359, -...|            007|\n",
            "|11445072|   JB415614|2018-08-30 19:45:00| 031XX W HARRISON ST|2027|           NARCOTICS|         POSS: CRACK|POLICE FACILITY/V...|  true|   false|1134|     011|  24|            27|      18|        NULL|        NULL|2018|04/13/2019 03:55:...|        NULL|         NULL|                NULL|      11|      Harrison|  3151 W Harrison St|Chicago|   IL|60612|http://home.chica...|312-746-8386|312-746-4281|312-746-5151| 1155244.069| 1897148.755|41.87358229|-87.70548813|(41.8735822883, -...|            011|\n",
            "+--------+-----------+-------------------+--------------------+----+--------------------+--------------------+--------------------+------+--------+----+--------+----+--------------+--------+------------+------------+----+--------------------+------------+-------------+--------------------+--------+--------------+--------------------+-------+-----+-----+--------------------+------------+------------+------------+------------+------------+-----------+------------+--------------------+---------------+\n",
            "only showing top 20 rows\n",
            "\n"
          ]
        }
      ],
      "source": [
        "rc.join(ps, rc.District == ps.format_district, 'left_outer').show()"
      ]
    },
    {
      "cell_type": "code",
      "execution_count": 44,
      "metadata": {
        "id": "8CR9XUeCc6Tn",
        "colab": {
          "base_uri": "https://localhost:8080/"
        },
        "outputId": "ecf59f32-715d-4a95-8f58-611f03e0e360"
      },
      "outputs": [
        {
          "output_type": "execute_result",
          "data": {
            "text/plain": [
              "['DISTRICT',\n",
              " 'DISTRICT NAME',\n",
              " 'ADDRESS',\n",
              " 'CITY',\n",
              " 'STATE',\n",
              " 'ZIP',\n",
              " 'WEBSITE',\n",
              " 'PHONE',\n",
              " 'FAX',\n",
              " 'TTY',\n",
              " 'X COORDINATE',\n",
              " 'Y COORDINATE',\n",
              " 'LATITUDE',\n",
              " 'LONGITUDE',\n",
              " 'LOCATION',\n",
              " 'format_district']"
            ]
          },
          "metadata": {},
          "execution_count": 44
        }
      ],
      "source": [
        "ps.columns"
      ]
    },
    {
      "cell_type": "code",
      "execution_count": 45,
      "metadata": {
        "id": "PxL3DKpPc6KG",
        "colab": {
          "base_uri": "https://localhost:8080/"
        },
        "outputId": "3f0075b3-69f3-4684-a3cf-771839bce309"
      },
      "outputs": [
        {
          "output_type": "stream",
          "name": "stdout",
          "text": [
            "+--------+-----------+-------------------+--------------------+----+--------------------+--------------------+--------------------+------+--------+----+--------+----+--------------+--------+----+--------------------+--------+--------------+---------------+\n",
            "|      ID|Case Number|               Date|               Block|IUCR|        Primary Type|         Description|Location Description|Arrest|Domestic|Beat|District|Ward|Community Area|FBI Code|Year|          Updated On|DISTRICT| DISTRICT NAME|format_district|\n",
            "+--------+-----------+-------------------+--------------------+----+--------------------+--------------------+--------------------+------+--------+----+--------+----+--------------+--------+----+--------------------+--------+--------------+---------------+\n",
            "|11037294|   JA371270|2015-03-18 12:00:00|   0000X W WACKER DR|1153|  DECEPTIVE PRACTICE|FINANCIAL IDENTIT...|                BANK| false|   false|0111|     001|  42|            32|      11|2015|08/01/2017 03:52:...|       1|       Central|            001|\n",
            "|11645836|   JC212333|2016-05-01 00:25:00| 055XX S ROCKWELL ST|1153|  DECEPTIVE PRACTICE|FINANCIAL IDENTIT...|                NULL| false|   false|0824|     008|  15|            63|      11|2016|04/06/2019 04:04:...|       8|  Chicago Lawn|            008|\n",
            "|11645601|   JC212935|2014-06-01 00:01:00| 087XX S SANGAMON ST|1153|  DECEPTIVE PRACTICE|FINANCIAL IDENTIT...|           RESIDENCE| false|   false|2222|     022|  21|            71|      11|2014|04/06/2019 04:04:...|      22|   Morgan Park|            022|\n",
            "|11646166|   JC213529|2018-09-01 00:01:00|082XX S INGLESIDE...|0810|               THEFT|           OVER $500|           RESIDENCE| false|    true|0631|     006|   8|            44|      06|2018|04/06/2019 04:04:...|       6|       Gresham|            006|\n",
            "|11645648|   JC212959|2018-01-01 08:00:00| 024XX N MONITOR AVE|1153|  DECEPTIVE PRACTICE|FINANCIAL IDENTIT...|           RESIDENCE| false|   false|2515|     025|  30|            19|      11|2018|04/06/2019 04:04:...|      25| Grand Central|            025|\n",
            "|11645557|   JC212685|2018-04-01 00:01:00|  080XX S VERNON AVE|1153|  DECEPTIVE PRACTICE|FINANCIAL IDENTIT...|           RESIDENCE| false|   false|0631|     006|   6|            44|      11|2018|04/06/2019 04:04:...|       6|       Gresham|            006|\n",
            "|11645527|   JC212744|2015-02-02 10:00:00|  069XX W ARCHER AVE|1153|  DECEPTIVE PRACTICE|FINANCIAL IDENTIT...|               OTHER| false|   false|0811|     008|  23|            56|      11|2015|04/06/2019 04:04:...|       8|  Chicago Lawn|            008|\n",
            "|11645833|   JC213044|2012-05-05 12:25:00|     057XX W OHIO ST|1153|  DECEPTIVE PRACTICE|FINANCIAL IDENTIT...|                NULL| false|   false|1511|     015|  29|            25|      11|2012|04/06/2019 04:04:...|      15|        Austin|            015|\n",
            "| 4144897|   HL474854|2005-07-10 15:00:00| 062XX S ABERDEEN ST|0430|             BATTERY|AGGRAVATED: OTHER...|              STREET| false|   false|0712|     007|  16|            68|     04B|2005|02/28/2018 03:56:...|       7|     Englewood|            007|\n",
            "| 1744168|    G553545|2001-09-15 02:00:00|     013XX W POLK ST|0460|             BATTERY|              SIMPLE|              STREET| false|   false|1213|     012|NULL|          NULL|     08B|2001|08/17/2015 03:03:...|      12|     Near West|            012|\n",
            "|11615821|   JC176668|2016-01-01 12:00:00| 054XX N NATCHEZ AVE|1195|  DECEPTIVE PRACTICE|FINAN EXPLOIT-ELD...|           RESIDENCE| false|    true|1613|     016|  45|            10|      11|2016|03/08/2019 04:36:...|      16|Jefferson Park|            016|\n",
            "|11641400|   JC207897|2018-07-26 13:00:00|  041XX N KEELER AVE|1130|  DECEPTIVE PRACTICE|FRAUD OR CONFIDEN...|           RESIDENCE| false|   false|1722|     017|  39|            16|      11|2018|04/02/2019 04:10:...|      17|   Albany Park|            017|\n",
            "|11646766|   JC214025|2018-01-01 09:10:00| 019XX N KENMORE AVE|1153|  DECEPTIVE PRACTICE|FINANCIAL IDENTIT...|                NULL| false|   false|1811|     018|  43|             7|      11|2018|04/07/2019 04:05:...|      18|    Near North|            018|\n",
            "|11646447|   JC213946|2008-10-24 14:30:00|036XX N NARRAGANS...|1153|  DECEPTIVE PRACTICE|FINANCIAL IDENTIT...|           APARTMENT| false|   false|1633|     016|  36|            17|      11|2008|04/07/2019 04:05:...|      16|Jefferson Park|            016|\n",
            "|11646550|   JC214099|2018-10-04 12:00:00|   092XX S PERRY AVE|1120|  DECEPTIVE PRACTICE|             FORGERY|               OTHER| false|   false|0634|     006|  21|            49|      10|2018|04/07/2019 04:05:...|       6|       Gresham|            006|\n",
            "| 4229528|   HL545852|2005-08-12 23:00:00|063XX S COTTAGE G...|3730|INTERFERENCE WITH...| OBSTRUCTING JUSTICE|            SIDEWALK|  true|   false|0312|     003|  20|            42|      24|2005|02/28/2018 03:56:...|       3|Grand Crossing|            003|\n",
            "|11647549|   JC214237|2018-06-07 15:00:00|102XX S EGGLESTON...|0820|               THEFT|      $500 AND UNDER|               OTHER| false|   false|2232|     022|   9|            73|      06|2018|04/09/2019 04:17:...|      22|   Morgan Park|            022|\n",
            "|11031104|   JA362043|2008-07-24 00:01:00| 031XX W FILLMORE ST|1563|         SEX OFFENSE|CRIMINAL SEXUAL A...|           APARTMENT| false|    true|1134|     011|  24|            29|      17|2008|07/26/2017 03:56:...|      11|      Harrison|            011|\n",
            "|11648173|   JC216048|2018-11-01 00:00:00|062XX S MARSHFIEL...|1153|  DECEPTIVE PRACTICE|FINANCIAL IDENTIT...|           APARTMENT| false|   false|0714|     007|  16|            67|      11|2018|04/08/2019 04:19:...|       7|     Englewood|            007|\n",
            "|11445072|   JB415614|2018-08-30 19:45:00| 031XX W HARRISON ST|2027|           NARCOTICS|         POSS: CRACK|POLICE FACILITY/V...|  true|   false|1134|     011|  24|            27|      18|2018|04/13/2019 03:55:...|      11|      Harrison|            011|\n",
            "+--------+-----------+-------------------+--------------------+----+--------------------+--------------------+--------------------+------+--------+----+--------+----+--------------+--------+----+--------------------+--------+--------------+---------------+\n",
            "only showing top 20 rows\n",
            "\n"
          ]
        }
      ],
      "source": [
        "rc.join(ps, rc.District == ps.format_district, 'left_outer').drop('ADDRESS',\n",
        " 'CITY',\n",
        " 'STATE',\n",
        " 'ZIP',\n",
        " 'WEBSITE',\n",
        " 'PHONE',\n",
        " 'FAX',\n",
        " 'TTY',\n",
        " 'X COORDINATE',\n",
        " 'Y COORDINATE',\n",
        " 'LATITUDE',\n",
        " 'LONGITUDE',\n",
        " 'LOCATION').show()"
      ]
    },
    {
      "cell_type": "markdown",
      "metadata": {
        "id": "-aQQ2gBF3Azz"
      },
      "source": [
        "## (04-05) Challenge questions"
      ]
    },
    {
      "cell_type": "markdown",
      "metadata": {
        "id": "AopcTx5q3Az0"
      },
      "source": [
        "**What is the most frequently reported non-criminal activity?**"
      ]
    },
    {
      "cell_type": "code",
      "source": [
        "rc.select('Primary Type').distinct().count()"
      ],
      "metadata": {
        "colab": {
          "base_uri": "https://localhost:8080/"
        },
        "id": "GobPHyKzXQFm",
        "outputId": "bc036826-bf05-4dc9-a790-2750cbf5cc1b"
      },
      "execution_count": 49,
      "outputs": [
        {
          "output_type": "execute_result",
          "data": {
            "text/plain": [
              "36"
            ]
          },
          "metadata": {},
          "execution_count": 49
        }
      ]
    },
    {
      "cell_type": "code",
      "execution_count": 50,
      "metadata": {
        "id": "PEw5vyF63Az0",
        "colab": {
          "base_uri": "https://localhost:8080/"
        },
        "outputId": "5593d952-0599-4511-dafd-a92c016bc5b1"
      },
      "outputs": [
        {
          "output_type": "stream",
          "name": "stdout",
          "text": [
            "+---------------------------------+\n",
            "|Primary Type                     |\n",
            "+---------------------------------+\n",
            "|ARSON                            |\n",
            "|ASSAULT                          |\n",
            "|BATTERY                          |\n",
            "|BURGLARY                         |\n",
            "|CONCEALED CARRY LICENSE VIOLATION|\n",
            "|CRIM SEXUAL ASSAULT              |\n",
            "|CRIMINAL DAMAGE                  |\n",
            "|CRIMINAL SEXUAL ASSAULT          |\n",
            "|CRIMINAL TRESPASS                |\n",
            "|DECEPTIVE PRACTICE               |\n",
            "|DOMESTIC VIOLENCE                |\n",
            "|GAMBLING                         |\n",
            "|HOMICIDE                         |\n",
            "|HUMAN TRAFFICKING                |\n",
            "|INTERFERENCE WITH PUBLIC OFFICER |\n",
            "|INTIMIDATION                     |\n",
            "|KIDNAPPING                       |\n",
            "|LIQUOR LAW VIOLATION             |\n",
            "|MOTOR VEHICLE THEFT              |\n",
            "|NARCOTICS                        |\n",
            "|NON - CRIMINAL                   |\n",
            "|NON-CRIMINAL                     |\n",
            "|NON-CRIMINAL (SUBJECT SPECIFIED) |\n",
            "|OBSCENITY                        |\n",
            "|OFFENSE INVOLVING CHILDREN       |\n",
            "|OTHER NARCOTIC VIOLATION         |\n",
            "|OTHER OFFENSE                    |\n",
            "|PROSTITUTION                     |\n",
            "|PUBLIC INDECENCY                 |\n",
            "|PUBLIC PEACE VIOLATION           |\n",
            "|RITUALISM                        |\n",
            "|ROBBERY                          |\n",
            "|SEX OFFENSE                      |\n",
            "|STALKING                         |\n",
            "|THEFT                            |\n",
            "|WEAPONS VIOLATION                |\n",
            "+---------------------------------+\n",
            "\n"
          ]
        }
      ],
      "source": [
        "rc.select('Primary Type').distinct().orderBy('Primary Type').show(36, truncate=False)"
      ]
    },
    {
      "cell_type": "code",
      "execution_count": 51,
      "metadata": {
        "id": "p1k8sxcY3Az0",
        "colab": {
          "base_uri": "https://localhost:8080/"
        },
        "outputId": "e2d98528-6623-477c-c120-23c35f69c292"
      },
      "outputs": [
        {
          "output_type": "stream",
          "name": "stdout",
          "text": [
            "+-------+-----------+-------------------+--------------------+----+--------------------+--------------------+--------------------+------+--------+----+--------+----+--------------+--------+------------+------------+----+--------------------+------------+-------------+--------------------+\n",
            "|     ID|Case Number|               Date|               Block|IUCR|        Primary Type|         Description|Location Description|Arrest|Domestic|Beat|District|Ward|Community Area|FBI Code|X Coordinate|Y Coordinate|Year|          Updated On|    Latitude|    Longitude|            Location|\n",
            "+-------+-----------+-------------------+--------------------+----+--------------------+--------------------+--------------------+------+--------+----+--------+----+--------------+--------+------------+------------+----+--------------------+------------+-------------+--------------------+\n",
            "|8773145|   HV447848|2012-08-25 15:00:00|    100XX W OHARE ST|5093|        NON-CRIMINAL|       LOST PASSPORT|AIRPORT TERMINAL ...|  true|   false|1651|     016|  41|            76|      26|     1100658|     1934241|2012|02/10/2018 03:50:...|41.976290414|-87.905227221|(41.976290414, -8...|\n",
            "|8602092|   HV276324|2012-05-07 22:30:00|    001XX W ADAMS ST|5093|        NON-CRIMINAL|       LOST PASSPORT|             TAXICAB| false|   false|0122|     001|  42|            32|      26|     1175062|     1899421|2012|02/04/2016 06:33:...|41.879396635|-87.632658775|(41.879396635, -8...|\n",
            "|8701089|   HV377321|2012-07-06 22:00:00|   009XX W ROSCOE ST|5093|        NON-CRIMINAL|       LOST PASSPORT|            SIDEWALK| false|   false|1924|     019|  44|             6|      26|     1169358|     1922759|2012|02/04/2016 06:33:...|41.943563314|-87.652923006|(41.943563314, -8...|\n",
            "|8613948|   HV287619|2012-05-05 15:00:00|004XX N MICHIGAN AVE|5093|        NON-CRIMINAL|       LOST PASSPORT|              STREET| false|   false|1834|     018|  42|             8|      26|     1177329|     1903108|2012|02/04/2016 06:33:...| 41.88946287|-87.624222942|(41.88946287, -87...|\n",
            "|8714358|   HV390850|2012-07-19 16:00:00|008XX N MICHIGAN AVE|5093|        NON-CRIMINAL|       LOST PASSPORT|COMMERCIAL / BUSI...| false|   false|1833|     018|  42|             8|      26|     1177338|     1906181|2012|02/10/2018 03:50:...|41.897895128|-87.624096605|(41.897895128, -8...|\n",
            "|8720297|   HV397127|2012-07-21 02:00:00|  0000X W HUBBARD ST|5093|        NON-CRIMINAL|       LOST PASSPORT|              STREET| false|   false|1831|     018|  42|             8|      26|     1176050|     1903312|2012|02/04/2016 06:33:...|41.890051565| -87.62891376|(41.890051565, -8...|\n",
            "|8920098|   HV592222|2012-12-06 23:30:00|     020XX W 51ST ST|5073|NON-CRIMINAL (SUB...|NOTIFICATION OF C...|           APARTMENT| false|    true|0931|     009|  16|            61|      26|     1163437|     1870837|2012|02/10/2018 03:50:...|41.801211675|-87.676146832|(41.801211675, -8...|\n",
            "|8819689|   HV492871|2012-09-26 17:20:00| 059XX N ROCKWELL ST|5073|NON-CRIMINAL (SUB...|NOTIFICATION OF C...|            SIDEWALK|  true|   false|2011|     020|  40|             2|      26|     1157923|     1939345|2012|02/10/2018 03:50:...| 41.98931757|-87.694498035|(41.98931757, -87...|\n",
            "|9062806|   HW207631|2013-03-26 16:00:00|067XX S JEFFERY BLVD|5094|        NON-CRIMINAL|      FOUND PASSPORT|             CTA BUS| false|   false|0332|     003|   5|            43|      26|     1190703|     1860780|2013|02/10/2018 03:50:...|41.772998982|-87.576478539|(41.772998982, -8...|\n",
            "|9148621|   HW294531|2013-05-01 09:00:00|034XX N LAKE SHOR...|5093|        NON-CRIMINAL|       LOST PASSPORT|           APARTMENT|  true|   false|1925|     019|  44|             6|      26|     1172449|     1923411|2013|02/10/2018 03:50:...|41.945284535|-87.641542722|(41.945284535, -8...|\n",
            "|9436491|   HW580783|2013-12-17 22:00:00|  057XX S CICERO AVE|5093|        NON-CRIMINAL|       LOST PASSPORT|            AIRCRAFT| false|   false|0813|     008|  23|            56|      26|     1145654|     1866253|2013|02/10/2018 03:50:...|41.788987036| -87.74147999|(41.788987036, -8...|\n",
            "|9284607|   HW428723|2013-08-29 09:30:00|    007XX E 111TH ST|5114|      NON - CRIMINAL|   FOID - REVOCATION|POLICE FACILITY/V...| false|   false|0531|     005|   9|            50|      26|     1183356|     1831503|2013|02/10/2018 03:50:...|41.692833841| -87.60431945|(41.692833841, -8...|\n",
            "|9406560|   HW549849|2013-11-27 10:20:00|    022XX E 103RD ST|5114|      NON - CRIMINAL|   FOID - REVOCATION|POLICE FACILITY/V...| false|   false|0434|     004|  10|            51|      26|     1192874|     1837123|2013|02/10/2018 03:50:...|41.708029389|-87.569290282|(41.708029389, -8...|\n",
            "|9402173|   HW545106|2013-11-22 02:00:00|  002XX W ONTARIO ST|5093|        NON-CRIMINAL|       LOST PASSPORT|       BAR OR TAVERN| false|   false|1831|     018|  42|             8|      26|     1174469|     1904439|2013|02/10/2018 03:50:...|41.893179585|-87.634686145|(41.893179585, -8...|\n",
            "|9366682|   HW510040|2013-10-28 07:15:00|     019XX W OHIO ST|5114|      NON - CRIMINAL|   FOID - REVOCATION|           RESIDENCE| false|   false|1221|     012|   1|            24|      26|     1163389|     1904029|2013|02/10/2018 03:50:...|41.892294874|-87.675390277|(41.892294874, -8...|\n",
            "|9640214|   HX290853|2014-06-05 10:00:00|026XX S CALIFORNI...|5114|      NON - CRIMINAL|   FOID - REVOCATION|GOVERNMENT BUILDI...| false|   false|1033|     010|  12|            30|      26|     1158136|     1886128|2014|02/10/2018 03:50:...|41.843281635|-87.695171094|(41.843281635, -8...|\n",
            "|9684549|   HX334987|2014-06-30 10:00:00|062XX W EASTWOOD AVE|5114|      NON - CRIMINAL|   FOID - REVOCATION|              STREET| false|   false|1622|     016|  38|            15|      26|     1133693|     1930201|2014|02/10/2018 03:50:...|41.964686958|-87.783836648|(41.964686958, -8...|\n",
            "|9507785|   HX163428|2014-02-24 21:18:00|   029XX S LOOMIS ST|5073|NON-CRIMINAL (SUB...|NOTIFICATION OF C...|           APARTMENT| false|    true|0913|     009|  11|            60|      26|     1168619|     1885264|2014|02/04/2016 06:33:...|41.840690549|-87.656725939|(41.840690549, -8...|\n",
            "|9683937|   HX334584|2014-07-04 03:00:00|    037XX N CLARK ST|5093|        NON-CRIMINAL|       LOST PASSPORT|            SIDEWALK| false|   false|1923|     019|  44|             6|      26|     1167839|     1924947|2014|02/10/2018 03:50:...|41.949600232|-87.658442769|(41.949600232, -8...|\n",
            "|9678411|   HX328247|2014-07-02 07:00:00|065XX S CALIFORNI...|5114|      NON - CRIMINAL|   FOID - REVOCATION|           RESIDENCE| false|   false|0831|     008|  15|            66|      26|     1158836|     1861188|2014|02/10/2018 03:50:...|41.774828777|-87.693283868|(41.774828777, -8...|\n",
            "+-------+-----------+-------------------+--------------------+----+--------------------+--------------------+--------------------+------+--------+----+--------+----+--------------+--------+------------+------------+----+--------------------+------------+-------------+--------------------+\n",
            "only showing top 20 rows\n",
            "\n"
          ]
        }
      ],
      "source": [
        "nc = rc.filter((col('Primary Type') == 'NON - CRIMINAL')|(col('Primary Type') == 'NON-CRIMINAL (SUBJECT SPECIFIED)')|(col('Primary Type') == 'NON-CRIMINAL'))\n",
        "nc.show()"
      ]
    },
    {
      "cell_type": "code",
      "execution_count": 52,
      "metadata": {
        "id": "cODrDxdb3Az0",
        "colab": {
          "base_uri": "https://localhost:8080/"
        },
        "outputId": "46f6ae03-022a-4515-b7ed-c5a08c76df2a"
      },
      "outputs": [
        {
          "output_type": "stream",
          "name": "stdout",
          "text": [
            "+-------------------------------------------+-----+\n",
            "|Description                                |count|\n",
            "+-------------------------------------------+-----+\n",
            "|LOST PASSPORT                              |107  |\n",
            "|FOID - REVOCATION                          |75   |\n",
            "|NOTIFICATION OF CIVIL NO CONTACT ORDER     |9    |\n",
            "|NOTIFICATION OF STALKING - NO CONTACT ORDER|8    |\n",
            "|FOUND PASSPORT                             |4    |\n",
            "|CONCEALED CARRY LICENSE REVOCATION         |4    |\n",
            "|GUN OFFENDER NOTIFICATION-NO CONTACT       |3    |\n",
            "+-------------------------------------------+-----+\n",
            "\n"
          ]
        }
      ],
      "source": [
        "nc.groupBy('Description').count().orderBy('count', ascending=False).show(truncate=False)"
      ]
    },
    {
      "cell_type": "markdown",
      "metadata": {
        "id": "ff7cLpWh3Az0"
      },
      "source": [
        "**Using a bar chart, plot which day of the week has the most number of reported crime.**"
      ]
    },
    {
      "cell_type": "code",
      "execution_count": 54,
      "metadata": {
        "id": "mo8JV7083Az0"
      },
      "outputs": [],
      "source": [
        "from pyspark.sql.functions import dayofweek"
      ]
    },
    {
      "cell_type": "code",
      "execution_count": 55,
      "metadata": {
        "id": "w0UWY8A13Az0",
        "colab": {
          "base_uri": "https://localhost:8080/"
        },
        "outputId": "459ca9cb-39cd-49d4-e1b6-c2990866151b"
      },
      "outputs": [
        {
          "output_type": "stream",
          "name": "stdout",
          "text": [
            "Help on function dayofweek in module pyspark.sql.functions:\n",
            "\n",
            "dayofweek(col: 'ColumnOrName') -> pyspark.sql.column.Column\n",
            "    Extract the day of the week of a given date/timestamp as integer.\n",
            "    Ranges from 1 for a Sunday through to 7 for a Saturday\n",
            "    \n",
            "    .. versionadded:: 2.3.0\n",
            "    \n",
            "    .. versionchanged:: 3.4.0\n",
            "        Supports Spark Connect.\n",
            "    \n",
            "    Parameters\n",
            "    ----------\n",
            "    col : :class:`~pyspark.sql.Column` or str\n",
            "        target date/timestamp column to work on.\n",
            "    \n",
            "    Returns\n",
            "    -------\n",
            "    :class:`~pyspark.sql.Column`\n",
            "        day of the week for given date/timestamp as integer.\n",
            "    \n",
            "    Examples\n",
            "    --------\n",
            "    >>> df = spark.createDataFrame([('2015-04-08',)], ['dt'])\n",
            "    >>> df.select(dayofweek('dt').alias('day')).collect()\n",
            "    [Row(day=4)]\n",
            "\n"
          ]
        }
      ],
      "source": [
        "help(dayofweek)"
      ]
    },
    {
      "cell_type": "code",
      "execution_count": 56,
      "metadata": {
        "id": "3OMXnCYr3Az0",
        "colab": {
          "base_uri": "https://localhost:8080/"
        },
        "outputId": "95a259d5-203d-4fa8-b79f-89ec3ef27f0b"
      },
      "outputs": [
        {
          "output_type": "stream",
          "name": "stdout",
          "text": [
            "+-------------------+---------------+\n",
            "|               Date|dayofweek(Date)|\n",
            "+-------------------+---------------+\n",
            "|2015-03-18 12:00:00|              4|\n",
            "|2016-05-01 00:25:00|              1|\n",
            "|2014-06-01 00:01:00|              1|\n",
            "|2018-09-01 00:01:00|              7|\n",
            "|2018-01-01 08:00:00|              2|\n",
            "|2018-04-01 00:01:00|              1|\n",
            "|2015-02-02 10:00:00|              2|\n",
            "|2012-05-05 12:25:00|              7|\n",
            "|2005-07-10 15:00:00|              1|\n",
            "|2001-09-15 02:00:00|              7|\n",
            "|2016-01-01 12:00:00|              6|\n",
            "|2018-07-26 13:00:00|              5|\n",
            "|2018-01-01 09:10:00|              2|\n",
            "|2008-10-24 14:30:00|              6|\n",
            "|2018-10-04 12:00:00|              5|\n",
            "|2005-08-12 23:00:00|              6|\n",
            "|2018-06-07 15:00:00|              5|\n",
            "|2008-07-24 00:01:00|              5|\n",
            "|2018-11-01 00:00:00|              5|\n",
            "|2018-08-30 19:45:00|              5|\n",
            "+-------------------+---------------+\n",
            "only showing top 20 rows\n",
            "\n"
          ]
        }
      ],
      "source": [
        "rc.select(col('Date'), dayofweek(col('Date'))).show()"
      ]
    },
    {
      "cell_type": "code",
      "execution_count": 58,
      "metadata": {
        "id": "kEbySVAC3Az0"
      },
      "outputs": [],
      "source": [
        "from pyspark.sql.functions import date_format"
      ]
    },
    {
      "cell_type": "code",
      "execution_count": 59,
      "metadata": {
        "id": "bSxKI4ePKJ5j",
        "colab": {
          "base_uri": "https://localhost:8080/"
        },
        "outputId": "0124721b-058f-47b2-d6f2-ac1f7bf9b1e4"
      },
      "outputs": [
        {
          "output_type": "stream",
          "name": "stdout",
          "text": [
            "Help on function date_format in module pyspark.sql.functions:\n",
            "\n",
            "date_format(date: 'ColumnOrName', format: str) -> pyspark.sql.column.Column\n",
            "    Converts a date/timestamp/string to a value of string in the format specified by the date\n",
            "    format given by the second argument.\n",
            "    \n",
            "    A pattern could be for instance `dd.MM.yyyy` and could return a string like '18.03.1993'. All\n",
            "    pattern letters of `datetime pattern`_. can be used.\n",
            "    \n",
            "    .. _datetime pattern: https://spark.apache.org/docs/latest/sql-ref-datetime-pattern.html\n",
            "    \n",
            "    .. versionadded:: 1.5.0\n",
            "    \n",
            "    .. versionchanged:: 3.4.0\n",
            "        Supports Spark Connect.\n",
            "    \n",
            "    Notes\n",
            "    -----\n",
            "    Whenever possible, use specialized functions like `year`.\n",
            "    \n",
            "    Parameters\n",
            "    ----------\n",
            "    date : :class:`~pyspark.sql.Column` or str\n",
            "        input column of values to format.\n",
            "    format: str\n",
            "        format to use to represent datetime values.\n",
            "    \n",
            "    Returns\n",
            "    -------\n",
            "    :class:`~pyspark.sql.Column`\n",
            "        string value representing formatted datetime.\n",
            "    \n",
            "    Examples\n",
            "    --------\n",
            "    >>> df = spark.createDataFrame([('2015-04-08',)], ['dt'])\n",
            "    >>> df.select(date_format('dt', 'MM/dd/yyy').alias('date')).collect()\n",
            "    [Row(date='04/08/2015')]\n",
            "\n"
          ]
        }
      ],
      "source": [
        "help(date_format)"
      ]
    },
    {
      "cell_type": "code",
      "execution_count": 62,
      "metadata": {
        "id": "j_iQqpL1KJ2d",
        "colab": {
          "base_uri": "https://localhost:8080/"
        },
        "outputId": "77051cb5-78d4-4f12-c2ef-2d55680f3287"
      },
      "outputs": [
        {
          "output_type": "stream",
          "name": "stdout",
          "text": [
            "+-------------------+---------------+--------------------+\n",
            "|               Date|dayofweek(Date)|date_format(Date, E)|\n",
            "+-------------------+---------------+--------------------+\n",
            "|2015-03-18 12:00:00|              4|                 Wed|\n",
            "|2016-05-01 00:25:00|              1|                 Sun|\n",
            "|2014-06-01 00:01:00|              1|                 Sun|\n",
            "|2018-09-01 00:01:00|              7|                 Sat|\n",
            "|2018-01-01 08:00:00|              2|                 Mon|\n",
            "+-------------------+---------------+--------------------+\n",
            "only showing top 5 rows\n",
            "\n"
          ]
        }
      ],
      "source": [
        "rc.select(col('Date'), dayofweek(col('Date')),date_format(col('Date'), 'E')).show(5)"
      ]
    },
    {
      "cell_type": "code",
      "execution_count": 63,
      "metadata": {
        "id": "GbcSuGRpKJzq",
        "colab": {
          "base_uri": "https://localhost:8080/"
        },
        "outputId": "47526bcc-d110-4430-c0fc-3f652841b413"
      },
      "outputs": [
        {
          "output_type": "stream",
          "name": "stdout",
          "text": [
            "+--------------------+-------+\n",
            "|date_format(Date, E)|  count|\n",
            "+--------------------+-------+\n",
            "|                 Fri|1017550|\n",
            "|                 Wed| 974462|\n",
            "|                 Tue| 968616|\n",
            "|                 Sat| 965662|\n",
            "|                 Thu| 965200|\n",
            "|                 Mon| 953331|\n",
            "|                 Sun| 912521|\n",
            "+--------------------+-------+\n",
            "\n"
          ]
        }
      ],
      "source": [
        "rc.groupBy(date_format(col('Date'), 'E')).count().orderBy('count', ascending=False).show()"
      ]
    },
    {
      "cell_type": "code",
      "execution_count": 64,
      "metadata": {
        "id": "h95xRmYbKJxE",
        "colab": {
          "base_uri": "https://localhost:8080/"
        },
        "outputId": "718d3b6f-0eaf-4e4b-8fef-273c5b84e085"
      },
      "outputs": [
        {
          "output_type": "execute_result",
          "data": {
            "text/plain": [
              "[Row(date_format(Date, E)='Sun', count=912521),\n",
              " Row(date_format(Date, E)='Mon', count=953331),\n",
              " Row(date_format(Date, E)='Thu', count=965200),\n",
              " Row(date_format(Date, E)='Sat', count=965662),\n",
              " Row(date_format(Date, E)='Wed', count=974462),\n",
              " Row(date_format(Date, E)='Fri', count=1017550),\n",
              " Row(date_format(Date, E)='Tue', count=968616)]"
            ]
          },
          "metadata": {},
          "execution_count": 64
        }
      ],
      "source": [
        "rc.groupBy(date_format(col('Date'), 'E')).count().collect()"
      ]
    },
    {
      "cell_type": "code",
      "source": [
        "dow = [x[0] for x in rc.groupBy(date_format(col('Date'), 'E')).count().collect()]\n",
        "dow"
      ],
      "metadata": {
        "id": "xRxHZgpG4d5p",
        "colab": {
          "base_uri": "https://localhost:8080/"
        },
        "outputId": "517ef844-ef5a-43fe-b5da-e5f8d832201d"
      },
      "execution_count": 66,
      "outputs": [
        {
          "output_type": "execute_result",
          "data": {
            "text/plain": [
              "['Sun', 'Mon', 'Thu', 'Sat', 'Wed', 'Fri', 'Tue']"
            ]
          },
          "metadata": {},
          "execution_count": 66
        }
      ]
    },
    {
      "cell_type": "code",
      "source": [
        "count = [x[1] for x in rc.groupBy(date_format(col('Date'), 'E')).count().collect()]\n",
        "count"
      ],
      "metadata": {
        "colab": {
          "base_uri": "https://localhost:8080/"
        },
        "id": "uO3n3OC9Z4p_",
        "outputId": "2c6e655a-fc34-41f6-ecbd-318b8a7cce12"
      },
      "execution_count": 67,
      "outputs": [
        {
          "output_type": "execute_result",
          "data": {
            "text/plain": [
              "[912521, 953331, 965200, 965662, 974462, 1017550, 968616]"
            ]
          },
          "metadata": {},
          "execution_count": 67
        }
      ]
    },
    {
      "cell_type": "code",
      "source": [
        "import matplotlib.pyplot as plt\n",
        "\n",
        "plt.bar(dow, count)\n",
        "plt.xlabel('Day of the week')\n",
        "plt.ylabel('Count')\n",
        "plt.title('Count of crimes by day of week')\n",
        "plt.show()"
      ],
      "metadata": {
        "colab": {
          "base_uri": "https://localhost:8080/",
          "height": 472
        },
        "id": "LG7vsF29aAEX",
        "outputId": "beb6f89c-2f88-4f3c-d503-4200ecaf2710"
      },
      "execution_count": 69,
      "outputs": [
        {
          "output_type": "display_data",
          "data": {
            "text/plain": [
              "<Figure size 640x480 with 1 Axes>"
            ],
            "image/png": "[encoded data removed]"
          },
          "metadata": {}
        }
      ]
    },
    {
      "cell_type": "markdown",
      "metadata": {
        "id": "oSOpIOhJ4etN"
      },
      "source": [
        "## (05-01) RDDs setup"
      ]
    },
    {
      "cell_type": "code",
      "source": [
        "from pyspark import SparkContext\n",
        "sc = SparkContext().getOrCreate()"
      ],
      "metadata": {
        "id": "bno-OdlqcmiH"
      },
      "execution_count": 1,
      "outputs": []
    },
    {
      "cell_type": "code",
      "execution_count": 6,
      "metadata": {
        "id": "xcOe8kAS4etN",
        "colab": {
          "base_uri": "https://localhost:8080/",
          "height": 53
        },
        "outputId": "2922c4d6-4106-4731-a247-237c2a60eefb"
      },
      "outputs": [
        {
          "output_type": "execute_result",
          "data": {
            "text/plain": [
              "'ID,Case Number,Date,Block,IUCR,Primary Type,Description,Location Description,Arrest,Domestic,Beat,District,Ward,Community Area,FBI Code,X Coordinate,Y Coordinate,Year,Updated On,Latitude,Longitude,Location'"
            ],
            "application/vnd.google.colaboratory.intrinsic+json": {
              "type": "string"
            }
          },
          "metadata": {},
          "execution_count": 6
        }
      ],
      "source": [
        "psrdd = sc.textFile(r'/content/drive/MyDrive/Education and training/Lambton College - Big data analytics/Term 3/Big Data Framework/Assignment/Assignment 8/reported-crimes.csv')\n",
        "psrdd.first()"
      ]
    },
    {
      "cell_type": "code",
      "execution_count": 7,
      "metadata": {
        "id": "uxMRo2C14etN"
      },
      "outputs": [],
      "source": [
        "ps_header = psrdd.first()"
      ]
    },
    {
      "cell_type": "code",
      "execution_count": 15,
      "metadata": {
        "id": "eYDxom404etN",
        "colab": {
          "base_uri": "https://localhost:8080/",
          "height": 53
        },
        "outputId": "336a9fee-105d-44e5-b6f5-52ebdd880a7b"
      },
      "outputs": [
        {
          "output_type": "execute_result",
          "data": {
            "text/plain": [
              "'11037294,JA371270,03/18/2015 12:00:00 PM,0000X W WACKER DR,1153,DECEPTIVE PRACTICE,FINANCIAL IDENTITY THEFT OVER $ 300,BANK,false,false,0111,001,42,32,11,,,2015,08/01/2017 03:52:26 PM,,,'"
            ],
            "application/vnd.google.colaboratory.intrinsic+json": {
              "type": "string"
            }
          },
          "metadata": {},
          "execution_count": 15
        }
      ],
      "source": [
        "ps_rest = psrdd.filter(lambda line: line != ps_header)\n",
        "ps_rest.first()"
      ]
    },
    {
      "cell_type": "markdown",
      "metadata": {
        "id": "ShYgMK6jPsSt"
      },
      "source": [
        "**How many police stations are there?**"
      ]
    },
    {
      "cell_type": "code",
      "execution_count": 11,
      "metadata": {
        "id": "Iv-dVhhhPwrO",
        "colab": {
          "base_uri": "https://localhost:8080/"
        },
        "outputId": "b802fda4-52e2-451f-f34a-2ebe3bc8f183"
      },
      "outputs": [
        {
          "output_type": "execute_result",
          "data": {
            "text/plain": [
              "8198126"
            ]
          },
          "metadata": {},
          "execution_count": 11
        }
      ],
      "source": [
        "ps_rest.map(lambda line: line.split(',')).count()"
      ]
    }
  ]
}